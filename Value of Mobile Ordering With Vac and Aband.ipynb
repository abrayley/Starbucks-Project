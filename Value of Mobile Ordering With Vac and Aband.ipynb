{
 "cells": [
  {
   "cell_type": "code",
   "execution_count": 1,
   "metadata": {},
   "outputs": [],
   "source": [
    "import Starbucks as sbs\n",
    "import numpy as np\n",
    "import numpy.random\n",
    "import matplotlib.pyplot as plt\n",
    "import pandas as pd\n",
    "import seaborn as sns\n",
    "import Person as ppl\n",
    "import Employee as emp\n",
    "from scipy.optimize import minimize, basinhopping\n",
    "import seaborn as sns"
   ]
  },
  {
   "cell_type": "code",
   "execution_count": 2,
   "metadata": {},
   "outputs": [],
   "source": [
    "bar_to_cash_ratio = pd.read_csv(\"bar-to-cash-ratios.csv\", index_col = 0)\n",
    "cash_to_bar_ratio = pd.read_csv(\"cash-to_bar-ratios.csv\",index_col=0)\n",
    "p_mobiles = [0.2, 0.25, 0.3, 0.35, 0.4, 0.45, 0.5]\n",
    "p_coffees = [0.1, 0.15, 0.2, 0.25, 0.3, 0.35, 0.4]"
   ]
  },
  {
   "cell_type": "markdown",
   "metadata": {},
   "source": [
    "# Run Basic Simulation"
   ]
  },
  {
   "cell_type": "code",
   "execution_count": 3,
   "metadata": {},
   "outputs": [],
   "source": [
    "#Run simulation\n",
    "\n",
    "original_stbks = sbs.Starbucks()\n",
    "starbucksArrivalRate = 75\n",
    "pMobile = 0.31\n",
    "pCoffee = 0.1\n",
    "cashRate = 62\n",
    "barRate = 17.5\n",
    "simDuration = 100\n",
    "cTotal = 5\n",
    "initialCashC = 1\n",
    "numCashReg = 2 \n",
    "meanPatienceTime = np.inf\n",
    "vacationMeanLength = 1\n",
    "switchRatioCashtoBar = 0\n",
    "switchRatioBartoCash = 0 \n",
    "#np.random.seed(0)\n",
    "original_stbks.simulation(starbucksArrivalRate, \n",
    "                     pMobile,   \n",
    "                     pCoffee , \n",
    "                     cashRate, \n",
    "                     barRate ,     \n",
    "                     simDuration, \n",
    "                     cTotal, \n",
    "                     initialCashC, \n",
    "                     numCashReg,\n",
    "                     switchRatioCashtoBar, \n",
    "                     switchRatioBartoCash, \n",
    "                     meanPatienceTime, \n",
    "                     vacationMeanLength,\n",
    "                     isSwitchingSystem = False)"
   ]
  },
  {
   "cell_type": "code",
   "execution_count": 4,
   "metadata": {},
   "outputs": [],
   "source": [
    "def run_original_simulation(p_mobile, p_coffee):\n",
    "    #Run simulation\n",
    "    \n",
    "    original_stbks = sbs.Starbucks()\n",
    "    starbucksArrivalRate = 75\n",
    "    pMobile = p_mobile\n",
    "    pCoffee = p_coffee\n",
    "    cashRate = 62\n",
    "    barRate = 17.5\n",
    "    simDuration = 50\n",
    "    cTotal = 6\n",
    "    initialCashC = 1\n",
    "    numCashReg = 2 \n",
    "    meanPatienceTime = 10\n",
    "    vacationMeanLength = 1\n",
    "    switchRatioCashtoBar = 0\n",
    "    switchRatioBartoCash = 0\n",
    "    #np.random.seed(10)\n",
    "    original_stbks.simulation(starbucksArrivalRate, \n",
    "                         pMobile,   \n",
    "                         pCoffee , \n",
    "                         cashRate, \n",
    "                         barRate ,     \n",
    "                         simDuration, \n",
    "                         cTotal, \n",
    "                         initialCashC, \n",
    "                         numCashReg,\n",
    "                         switchRatioCashtoBar, \n",
    "                         switchRatioBartoCash, \n",
    "                         meanPatienceTime, \n",
    "                         vacationMeanLength,\n",
    "                         isSwitchingSystem = False,\n",
    "                        isBalkingSystem = False)\n",
    "    return(original_stbks)"
   ]
  },
  {
   "cell_type": "code",
   "execution_count": 23,
   "metadata": {},
   "outputs": [],
   "source": [
    "orig = run_original_simulation(0.3,0.1)"
   ]
  },
  {
   "cell_type": "code",
   "execution_count": 26,
   "metadata": {},
   "outputs": [],
   "source": [
    "orig2 = run_original_simulation(0.9,0.1)"
   ]
  },
  {
   "cell_type": "code",
   "execution_count": 27,
   "metadata": {},
   "outputs": [
    {
     "data": {
      "text/plain": [
       "3"
      ]
     },
     "execution_count": 27,
     "metadata": {},
     "output_type": "execute_result"
    }
   ],
   "source": [
    "len(orig2.abandonedCustomers)"
   ]
  },
  {
   "cell_type": "code",
   "execution_count": 30,
   "metadata": {},
   "outputs": [
    {
     "data": {
      "text/plain": [
       "[<matplotlib.lines.Line2D at 0x23a09271cc0>]"
      ]
     },
     "execution_count": 30,
     "metadata": {},
     "output_type": "execute_result"
    },
    {
     "data": {
      "image/png": "[encoded data removed]",
      "text/plain": [
       "<Figure size 432x288 with 1 Axes>"
      ]
     },
     "metadata": {
      "needs_background": "light"
     },
     "output_type": "display_data"
    }
   ],
   "source": [
    "plt.plot(orig.numberServersOnVacationCash[100:900])"
   ]
  },
  {
   "cell_type": "code",
   "execution_count": 31,
   "metadata": {},
   "outputs": [
    {
     "data": {
      "text/plain": [
       "[<matplotlib.lines.Line2D at 0x23a08fca278>]"
      ]
     },
     "execution_count": 31,
     "metadata": {},
     "output_type": "execute_result"
    },
    {
     "data": {
      "image/png": "[encoded data removed]",
      "text/plain": [
       "<Figure size 432x288 with 1 Axes>"
      ]
     },
     "metadata": {
      "needs_background": "light"
     },
     "output_type": "display_data"
    }
   ],
   "source": [
    "plt.plot(orig2.numberServersOnVacationCash[100:900])"
   ]
  },
  {
   "cell_type": "markdown",
   "metadata": {},
   "source": [
    "# Run Simulation with Switching"
   ]
  },
  {
   "cell_type": "code",
   "execution_count": 5,
   "metadata": {},
   "outputs": [],
   "source": [
    "#Run simulation\n",
    "i = 2 #pmobile = 0.3\n",
    "j = 0 #pcoffee = 0.1\n",
    "switching_stbks = sbs.Starbucks()\n",
    "starbucksArrivalRate = 75\n",
    "pMobile = p_mobiles[i]\n",
    "pCoffee = p_coffees[j]\n",
    "cashRate = 62\n",
    "barRate = 17.5\n",
    "simDuration = 100\n",
    "cTotal = 5\n",
    "initialCashC = 1\n",
    "numCashReg = 2 \n",
    "meanPatienceTime = 100 \n",
    "vacationMeanLength = 1\n",
    "switchRatioCashtoBar = cash_to_bar_ratio.values[i,j]\n",
    "switchRatioBartoCash = bar_to_cash_ratio.values[i,j] \n",
    "#np.random.seed(0)\n",
    "switching_stbks.simulation(starbucksArrivalRate, \n",
    "                     pMobile,   \n",
    "                     pCoffee , \n",
    "                     cashRate, \n",
    "                     barRate ,     \n",
    "                     simDuration, \n",
    "                     cTotal, \n",
    "                     initialCashC, \n",
    "                     numCashReg,\n",
    "                     switchRatioCashtoBar, \n",
    "                     switchRatioBartoCash, \n",
    "                     meanPatienceTime, \n",
    "                     vacationMeanLength)"
   ]
  },
  {
   "cell_type": "code",
   "execution_count": 6,
   "metadata": {},
   "outputs": [],
   "source": [
    "def run_switching_simulation(p_mobile, p_coffee):\n",
    "    #Run simulation\n",
    "\n",
    "    switching_stbks = sbs.Starbucks()\n",
    "    starbucksArrivalRate = 75\n",
    "    pMobile = p_mobile\n",
    "    pCoffee = p_coffee\n",
    "    cashRate = 62\n",
    "    barRate = 17.5\n",
    "    simDuration = 100\n",
    "    cTotal = 5\n",
    "    initialCashC = 1\n",
    "    numCashReg = 2 \n",
    "    meanPatienceTime = 100 \n",
    "    vacationMeanLength = 1\n",
    "    switchRatioCashtoBar = bar_to_cash_ratio.loc[p_coffee,str(p_mobile)]\n",
    "    switchRatioBartoCash = cash_to_bar_ratio.loc[p_coffee,str(p_mobile)]\n",
    "    #np.random.seed(10)\n",
    "    switching_stbks.simulation(starbucksArrivalRate, \n",
    "                         pMobile,   \n",
    "                         pCoffee , \n",
    "                         cashRate, \n",
    "                         barRate ,     \n",
    "                         simDuration, \n",
    "                         cTotal, \n",
    "                         initialCashC, \n",
    "                         numCashReg,\n",
    "                         switchRatioCashtoBar, \n",
    "                         switchRatioBartoCash, \n",
    "                         meanPatienceTime, \n",
    "                         vacationMeanLength)\n",
    "    return(switching_stbks)"
   ]
  },
  {
   "cell_type": "code",
   "execution_count": 7,
   "metadata": {},
   "outputs": [],
   "source": [
    "def calc_metrics(analysisSim):\n",
    "    #analysisSim is the simulation run with the parameters of choice\n",
    "    \n",
    "    number_entered_bar_while_in_cash = calc_mobile_orders_passing_physical(analysisSim)\n",
    "    mobile_orders_bypassing_physical = number_entered_bar_while_in_cash.mean()\n",
    "    mob_time, phy_time = calc_time_in_starbucks(analysisSim)\n",
    "    time_in_stbks_mobile=mob_time\n",
    "    time_in_stbks_physical = phy_time\n",
    "    bar_q, cash_q = calc_mean_queue_length(analysisSim)\n",
    "\n",
    "    avg_queue_bar = bar_q\n",
    "    avg_queue_cash = cash_q\n",
    "    utilization = calc_utilization_rate(analysisSim)\n",
    "    data = np.array([float(mobile_orders_bypassing_physical), time_in_stbks_mobile, time_in_stbks_physical, avg_queue_bar, avg_queue_cash,utilization]).reshape(1,6)\n",
    "    #data = np.array([float(mobile_orders_bypassing_physical), time_in_stbks_mobile, time_in_stbks_physical, avg_queue_bar, avg_queue_cash,utilization]).T\n",
    "    results = pd.DataFrame(data, columns=['Num of Mobile Bypassing Physical','Avg Time in Starbucks Mobile Customer' , 'Avg Time in Starbucks Physical Customer', 'Avg Num in Bar Queue', 'Avg Num in Cash Queue', 'Server Utilization'])\n",
    "    #return(mobile_orders_bypassing_physical, time_in_stbks_mobile, time_in_stbks_physical, avg_queue_bar, avg_queue_cash)\n",
    "    return(results)"
   ]
  },
  {
   "cell_type": "code",
   "execution_count": 8,
   "metadata": {},
   "outputs": [],
   "source": [
    "def calc_mobile_orders_passing_physical(simulation):\n",
    "    #time mobile customers enter the bar queue\n",
    "    times_enter_bar = simulation.mobileCustomersEnterTime\n",
    "    # list of people that have exited the cash\n",
    "    ppl_completed_cash = simulation.completedCustomersCash\n",
    "    num_enter_box_while_waiting_in_cash_queue = []\n",
    "    for ppl in ppl_completed_cash:\n",
    "        num = 0\n",
    "        time_enter_cash = ppl.timeEnterCashQ\n",
    "        time_exit_cash = ppl.timeExitCashSys\n",
    "        for time in times_enter_bar:\n",
    "            if time < time_exit_cash and time > time_enter_cash:\n",
    "                num +=1\n",
    "        num_enter_box_while_waiting_in_cash_queue.append(num)\n",
    "    num_enter_box_while_waiting_in_cash_queue = pd.DataFrame(num_enter_box_while_waiting_in_cash_queue)\n",
    "    \n",
    "    return(num_enter_box_while_waiting_in_cash_queue)"
   ]
  },
  {
   "cell_type": "code",
   "execution_count": 9,
   "metadata": {},
   "outputs": [],
   "source": [
    "def calc_mean_queue_length(simulation):\n",
    "    times = simulation.times\n",
    "    bar_queue = simulation.barqlength\n",
    "    cash_queue = simulation.cashqlength\n",
    " \n",
    "    avg_bar_queue = np.sum(np.subtract(times[1:], times[0:-1])*bar_queue[1:])/times[-1]\n",
    "    avg_cash_queue = np.sum(np.subtract(times[1:], times[0:-1])*cash_queue[1:])/times[-1]\n",
    "    return(float(avg_bar_queue), float(avg_cash_queue))\n",
    "    "
   ]
  },
  {
   "cell_type": "code",
   "execution_count": 10,
   "metadata": {},
   "outputs": [],
   "source": [
    "def calc_time_in_starbucks_coffee(simulation):\n",
    "    completed_customers = simulation.completedCustomers\n",
    "    time_in_stbks_coffee = []\n",
    "  \n",
    "    for ppl in completed_customers:\n",
    "        \n",
    "        if ppl.coffee ==1:\n",
    "            time_in_stbks_coffee.append(ppl.timeExitStbks - ppl.timeEnterStbks)\n",
    "        \n",
    "    \n",
    "    time_in_stbks_coffee =pd.DataFrame(time_in_stbks_coffee, columns=['Physical'])\n",
    "        \n",
    "    return(float(time_in_stbks_coffee.mean()))\n",
    "    "
   ]
  },
  {
   "cell_type": "code",
   "execution_count": 11,
   "metadata": {},
   "outputs": [],
   "source": [
    "def calc_time_in_starbucks(simulation):\n",
    "    completed_customers = simulation.completedCustomers\n",
    "    time_in_stbks_mobile = []\n",
    "    time_in_stbks_physical = []\n",
    "    for ppl in completed_customers:\n",
    "        #mobile customer\n",
    "        if ppl.mobile ==1:\n",
    "            time_in_stbks_mobile.append(ppl.timeExitStbks - ppl.timeEnterStbks)\n",
    "        else:\n",
    "            time_in_stbks_physical.append(ppl.timeExitStbks - ppl.timeEnterStbks)\n",
    "    \n",
    "    time_in_stbks_physical =pd.DataFrame(time_in_stbks_physical, columns=['Physical'])\n",
    "    time_in_stbks_mobile =pd.DataFrame(time_in_stbks_mobile, columns=['Mobile'])\n",
    "    \n",
    "    return(float(time_in_stbks_mobile.mean()), float(time_in_stbks_physical.mean()))"
   ]
  },
  {
   "cell_type": "code",
   "execution_count": 12,
   "metadata": {},
   "outputs": [],
   "source": [
    "def calc_utilization_rate(simulation):\n",
    "    #calculate the percentage of time a server is busy\n",
    "    total_occupied_servers=[]\n",
    "    for i in range(0,len(simulation.times)):\n",
    "        total_occupied_servers.append(simulation.numberOccupiedServersBar[i] + simulation.numberOccupiedServersCash[i])\n",
    "    times = simulation.times\n",
    "    rho = (np.sum(np.subtract(times[1:], times[0:-1])*total_occupied_servers[1:])/times[-1])/simulation.cTotal\n",
    "    return(rho)"
   ]
  },
  {
   "cell_type": "code",
   "execution_count": 13,
   "metadata": {},
   "outputs": [],
   "source": [
    "def calc_percent_improvements(original_stbks, switching_stbks):\n",
    "    original_results = calc_metrics(original_stbks)\n",
    "    switching_results = calc_metrics(switching_stbks)\n",
    "    percent_improvements = 100*(switching_results - original_results)/original_results\n",
    "    return(percent_improvements)"
   ]
  },
  {
   "cell_type": "markdown",
   "metadata": {},
   "source": [
    "# Comparison Collegetown Stbks"
   ]
  },
  {
   "cell_type": "code",
   "execution_count": 14,
   "metadata": {},
   "outputs": [
    {
     "data": {
      "text/html": [
       "<div>\n",
       "<style scoped>\n",
       "    .dataframe tbody tr th:only-of-type {\n",
       "        vertical-align: middle;\n",
       "    }\n",
       "\n",
       "    .dataframe tbody tr th {\n",
       "        vertical-align: top;\n",
       "    }\n",
       "\n",
       "    .dataframe thead th {\n",
       "        text-align: right;\n",
       "    }\n",
       "</style>\n",
       "<table border=\"1\" class=\"dataframe\">\n",
       "  <thead>\n",
       "    <tr style=\"text-align: right;\">\n",
       "      <th></th>\n",
       "      <th>Num of Mobile Bypassing Physical</th>\n",
       "      <th>Avg Time in Starbucks Mobile Customer</th>\n",
       "      <th>Avg Time in Starbucks Physical Customer</th>\n",
       "      <th>Avg Num in Bar Queue</th>\n",
       "      <th>Avg Num in Cash Queue</th>\n",
       "      <th>Server Utilization</th>\n",
       "    </tr>\n",
       "  </thead>\n",
       "  <tbody>\n",
       "    <tr>\n",
       "      <th>0</th>\n",
       "      <td>0.831279</td>\n",
       "      <td>0.043461</td>\n",
       "      <td>0.074731</td>\n",
       "      <td>0.793023</td>\n",
       "      <td>1.056403</td>\n",
       "      <td>0.574985</td>\n",
       "    </tr>\n",
       "  </tbody>\n",
       "</table>\n",
       "</div>"
      ],
      "text/plain": [
       "   Num of Mobile Bypassing Physical  Avg Time in Starbucks Mobile Customer  \\\n",
       "0                          0.831279                               0.043461   \n",
       "\n",
       "   Avg Time in Starbucks Physical Customer  Avg Num in Bar Queue  \\\n",
       "0                                 0.074731              0.793023   \n",
       "\n",
       "   Avg Num in Cash Queue  Server Utilization  \n",
       "0               1.056403            0.574985  "
      ]
     },
     "execution_count": 14,
     "metadata": {},
     "output_type": "execute_result"
    }
   ],
   "source": [
    "#Original Starbucks Without Switching\n",
    "original_results_collegetown = calc_metrics(original_stbks)\n",
    "#original Starbucks With Switching\n",
    "switching_results_collegetown = calc_metrics(switching_stbks)\n",
    "original_results_collegetown\n",
    "switching_results_collegetown"
   ]
  },
  {
   "cell_type": "code",
   "execution_count": 15,
   "metadata": {},
   "outputs": [
    {
     "data": {
      "text/html": [
       "<div>\n",
       "<style scoped>\n",
       "    .dataframe tbody tr th:only-of-type {\n",
       "        vertical-align: middle;\n",
       "    }\n",
       "\n",
       "    .dataframe tbody tr th {\n",
       "        vertical-align: top;\n",
       "    }\n",
       "\n",
       "    .dataframe thead th {\n",
       "        text-align: right;\n",
       "    }\n",
       "</style>\n",
       "<table border=\"1\" class=\"dataframe\">\n",
       "  <thead>\n",
       "    <tr style=\"text-align: right;\">\n",
       "      <th></th>\n",
       "      <th>Num of Mobile Bypassing Physical</th>\n",
       "      <th>Avg Time in Starbucks Mobile Customer</th>\n",
       "      <th>Avg Time in Starbucks Physical Customer</th>\n",
       "      <th>Avg Num in Bar Queue</th>\n",
       "      <th>Avg Num in Cash Queue</th>\n",
       "      <th>Server Utilization</th>\n",
       "    </tr>\n",
       "  </thead>\n",
       "  <tbody>\n",
       "    <tr>\n",
       "      <th>0</th>\n",
       "      <td>2.251881</td>\n",
       "      <td>0.066397</td>\n",
       "      <td>0.163957</td>\n",
       "      <td>1.887901</td>\n",
       "      <td>3.517015</td>\n",
       "      <td>0.671621</td>\n",
       "    </tr>\n",
       "  </tbody>\n",
       "</table>\n",
       "</div>"
      ],
      "text/plain": [
       "   Num of Mobile Bypassing Physical  Avg Time in Starbucks Mobile Customer  \\\n",
       "0                          2.251881                               0.066397   \n",
       "\n",
       "   Avg Time in Starbucks Physical Customer  Avg Num in Bar Queue  \\\n",
       "0                                 0.163957              1.887901   \n",
       "\n",
       "   Avg Num in Cash Queue  Server Utilization  \n",
       "0               3.517015            0.671621  "
      ]
     },
     "execution_count": 15,
     "metadata": {},
     "output_type": "execute_result"
    }
   ],
   "source": [
    "calc_metrics(original_stbks)"
   ]
  },
  {
   "cell_type": "code",
   "execution_count": 16,
   "metadata": {},
   "outputs": [
    {
     "data": {
      "text/html": [
       "<div>\n",
       "<style scoped>\n",
       "    .dataframe tbody tr th:only-of-type {\n",
       "        vertical-align: middle;\n",
       "    }\n",
       "\n",
       "    .dataframe tbody tr th {\n",
       "        vertical-align: top;\n",
       "    }\n",
       "\n",
       "    .dataframe thead th {\n",
       "        text-align: right;\n",
       "    }\n",
       "</style>\n",
       "<table border=\"1\" class=\"dataframe\">\n",
       "  <thead>\n",
       "    <tr style=\"text-align: right;\">\n",
       "      <th></th>\n",
       "      <th>Num of Mobile Bypassing Physical</th>\n",
       "      <th>Avg Time in Starbucks Mobile Customer</th>\n",
       "      <th>Avg Time in Starbucks Physical Customer</th>\n",
       "      <th>Avg Num in Bar Queue</th>\n",
       "      <th>Avg Num in Cash Queue</th>\n",
       "      <th>Server Utilization</th>\n",
       "    </tr>\n",
       "  </thead>\n",
       "  <tbody>\n",
       "    <tr>\n",
       "      <th>0</th>\n",
       "      <td>0.831279</td>\n",
       "      <td>0.043461</td>\n",
       "      <td>0.074731</td>\n",
       "      <td>0.793023</td>\n",
       "      <td>1.056403</td>\n",
       "      <td>0.574985</td>\n",
       "    </tr>\n",
       "  </tbody>\n",
       "</table>\n",
       "</div>"
      ],
      "text/plain": [
       "   Num of Mobile Bypassing Physical  Avg Time in Starbucks Mobile Customer  \\\n",
       "0                          0.831279                               0.043461   \n",
       "\n",
       "   Avg Time in Starbucks Physical Customer  Avg Num in Bar Queue  \\\n",
       "0                                 0.074731              0.793023   \n",
       "\n",
       "   Avg Num in Cash Queue  Server Utilization  \n",
       "0               1.056403            0.574985  "
      ]
     },
     "execution_count": 16,
     "metadata": {},
     "output_type": "execute_result"
    }
   ],
   "source": [
    "calc_metrics(switching_stbks)"
   ]
  },
  {
   "cell_type": "code",
   "execution_count": null,
   "metadata": {},
   "outputs": [],
   "source": [
    "percent_improvements_collegetown = calc_percent_improvements(original_stbks,switching_stbks)\n",
    "percent_improvements_collegetown"
   ]
  },
  {
   "cell_type": "code",
   "execution_count": null,
   "metadata": {},
   "outputs": [],
   "source": [
    "percent_improvements_collegetown.to_csv('Percent Improvements Collegetown Starbucks.csv')\n",
    "original_results_collegetown.to_csv('Original Operating Results.csv')\n",
    "switching_results_collegetown.to_csv('Switching Operating Results.csv')"
   ]
  },
  {
   "cell_type": "markdown",
   "metadata": {},
   "source": [
    "# For Pcoffee = 0.1, Pmobile = [0.2, 0.25, 0.3, 0.35, 0.4, 0.45, 0.5]"
   ]
  },
  {
   "cell_type": "code",
   "execution_count": 118,
   "metadata": {},
   "outputs": [],
   "source": [
    "p_coffee = 0.1\n",
    "p_mobiles = np.arange(0.2, 1, 0.1)#[0.2, 0.25, 0.3, 0.35, 0.4, 0.45, 0.5]"
   ]
  },
  {
   "cell_type": "code",
   "execution_count": 136,
   "metadata": {},
   "outputs": [
    {
     "data": {
      "text/html": [
       "<div>\n",
       "<style scoped>\n",
       "    .dataframe tbody tr th:only-of-type {\n",
       "        vertical-align: middle;\n",
       "    }\n",
       "\n",
       "    .dataframe tbody tr th {\n",
       "        vertical-align: top;\n",
       "    }\n",
       "\n",
       "    .dataframe thead th {\n",
       "        text-align: right;\n",
       "    }\n",
       "</style>\n",
       "<table border=\"1\" class=\"dataframe\">\n",
       "  <thead>\n",
       "    <tr style=\"text-align: right;\">\n",
       "      <th></th>\n",
       "      <th>Num of Mobile Bypassing Physical</th>\n",
       "      <th>Avg Time in Starbucks Mobile Customer</th>\n",
       "      <th>Avg Time in Starbucks Physical Customer</th>\n",
       "      <th>Avg Num in Bar Queue</th>\n",
       "      <th>Avg Num in Cash Queue</th>\n",
       "      <th>Server Utilization</th>\n",
       "    </tr>\n",
       "  </thead>\n",
       "  <tbody>\n",
       "    <tr>\n",
       "      <th>0</th>\n",
       "      <td>21.909652</td>\n",
       "      <td>0.057352</td>\n",
       "      <td>2.913036</td>\n",
       "      <td>0.000953</td>\n",
       "      <td>193.412206</td>\n",
       "      <td>0.357777</td>\n",
       "    </tr>\n",
       "  </tbody>\n",
       "</table>\n",
       "</div>"
      ],
      "text/plain": [
       "   Num of Mobile Bypassing Physical  Avg Time in Starbucks Mobile Customer  \\\n",
       "0                         21.909652                               0.057352   \n",
       "\n",
       "   Avg Time in Starbucks Physical Customer  Avg Num in Bar Queue  \\\n",
       "0                                 2.913036              0.000953   \n",
       "\n",
       "   Avg Num in Cash Queue  Server Utilization  \n",
       "0             193.412206            0.357777  "
      ]
     },
     "execution_count": 136,
     "metadata": {},
     "output_type": "execute_result"
    }
   ],
   "source": [
    "calc_metrics(run_original_simulation(0.1,0.9))"
   ]
  },
  {
   "cell_type": "code",
   "execution_count": 137,
   "metadata": {},
   "outputs": [
    {
     "data": {
      "text/html": [
       "<div>\n",
       "<style scoped>\n",
       "    .dataframe tbody tr th:only-of-type {\n",
       "        vertical-align: middle;\n",
       "    }\n",
       "\n",
       "    .dataframe tbody tr th {\n",
       "        vertical-align: top;\n",
       "    }\n",
       "\n",
       "    .dataframe thead th {\n",
       "        text-align: right;\n",
       "    }\n",
       "</style>\n",
       "<table border=\"1\" class=\"dataframe\">\n",
       "  <thead>\n",
       "    <tr style=\"text-align: right;\">\n",
       "      <th></th>\n",
       "      <th>Num of Mobile Bypassing Physical</th>\n",
       "      <th>Avg Time in Starbucks Mobile Customer</th>\n",
       "      <th>Avg Time in Starbucks Physical Customer</th>\n",
       "      <th>Avg Num in Bar Queue</th>\n",
       "      <th>Avg Num in Cash Queue</th>\n",
       "      <th>Server Utilization</th>\n",
       "    </tr>\n",
       "  </thead>\n",
       "  <tbody>\n",
       "    <tr>\n",
       "      <th>0</th>\n",
       "      <td>0.0</td>\n",
       "      <td>NaN</td>\n",
       "      <td>5.593048</td>\n",
       "      <td>0.0</td>\n",
       "      <td>424.485844</td>\n",
       "      <td>0.226357</td>\n",
       "    </tr>\n",
       "  </tbody>\n",
       "</table>\n",
       "</div>"
      ],
      "text/plain": [
       "   Num of Mobile Bypassing Physical  Avg Time in Starbucks Mobile Customer  \\\n",
       "0                               0.0                                    NaN   \n",
       "\n",
       "   Avg Time in Starbucks Physical Customer  Avg Num in Bar Queue  \\\n",
       "0                                 5.593048                   0.0   \n",
       "\n",
       "   Avg Num in Cash Queue  Server Utilization  \n",
       "0             424.485844            0.226357  "
      ]
     },
     "execution_count": 137,
     "metadata": {},
     "output_type": "execute_result"
    }
   ],
   "source": [
    "calc_metrics(run_original_simulation(0.,0.9))"
   ]
  },
  {
   "cell_type": "code",
   "execution_count": 17,
   "metadata": {},
   "outputs": [],
   "source": [
    "#Only increasing pmobile\n",
    "percent_improvements_pmobile_no_switching = pd.DataFrame( columns=['Num of Mobile Bypassing Physical','Avg Time in Starbucks Mobile Customer' , 'Avg Time in Starbucks Physical Customer', 'Avg Num in Bar Queue', 'Avg Num in Cash Queue','Server Utilization'])\n",
    "percent_improvements_pmobile_with_switching = pd.DataFrame( columns=['Num of Mobile Bypassing Physical','Avg Time in Starbucks Mobile Customer' , 'Avg Time in Starbucks Physical Customer', 'Avg Num in Bar Queue', 'Avg Num in Cash Queue','Server Utilization'])\n",
    "metrics_no_switching = pd.DataFrame( columns=['Num of Mobile Bypassing Physical','Avg Time in Starbucks Mobile Customer' , 'Avg Time in Starbucks Physical Customer', 'Avg Num in Bar Queue', 'Avg Num in Cash Queue','Server Utilization'])\n",
    "metrics_with_switching = pd.DataFrame( columns=['Num of Mobile Bypassing Physical','Avg Time in Starbucks Mobile Customer' , 'Avg Time in Starbucks Physical Customer', 'Avg Num in Bar Queue', 'Avg Num in Cash Queue','Server Utilization'])\n",
    " \n",
    "\n",
    "original_stbks = run_original_simulation(0.3,0.1)\n",
    "original_stbks_with_switching = run_switching_simulation(0.3,0.1)\n",
    "for i in range(0,len(p_mobiles)):\n",
    "    p_coffee = 0.1\n",
    "    #p_mobiles = [0.2, 0.25, 0.3, 0.35, 0.4, 0.45, 0.5]\n",
    "    p_mobile = p_mobiles[i]\n",
    "    #original_stbks = run_original_simulation(p_mobile, p_coffee)\n",
    "    \n",
    "    #changed p_mobile and switching\n",
    "    #switching_stbks = run_switching_simulation(p_mobile, p_coffee)\n",
    "    #changed p_mobile but no switching \n",
    "    no_switching_stbks = run_original_simulation(p_mobile, p_coffee)\n",
    "    \n",
    "    #percent_improvement_with_switching = calc_percent_improvements(original_stbks,switching_stbks)\n",
    "    percent_improvement_without_switching = calc_percent_improvements(original_stbks,no_switching_stbks)\n",
    "    metrics_no_switching = metrics_no_switching.append(calc_metrics(no_switching_stbks))\n",
    "    #percent_improvements_pmobile_with_switching = percent_improvements_pmobile_with_switching.append(percent_improvement_with_switching)\n",
    "    percent_improvements_pmobile_no_switching = percent_improvements_pmobile_no_switching.append(percent_improvement_without_switching)\n",
    "    #metrics_with_switching = metrics_with_switching.append(calc_metrics(switching_stbks)) "
   ]
  },
  {
   "cell_type": "code",
   "execution_count": 18,
   "metadata": {},
   "outputs": [
    {
     "data": {
      "text/html": [
       "<div>\n",
       "<style scoped>\n",
       "    .dataframe tbody tr th:only-of-type {\n",
       "        vertical-align: middle;\n",
       "    }\n",
       "\n",
       "    .dataframe tbody tr th {\n",
       "        vertical-align: top;\n",
       "    }\n",
       "\n",
       "    .dataframe thead th {\n",
       "        text-align: right;\n",
       "    }\n",
       "</style>\n",
       "<table border=\"1\" class=\"dataframe\">\n",
       "  <thead>\n",
       "    <tr style=\"text-align: right;\">\n",
       "      <th></th>\n",
       "      <th>Num of Mobile Bypassing Physical</th>\n",
       "      <th>Avg Time in Starbucks Mobile Customer</th>\n",
       "      <th>Avg Time in Starbucks Physical Customer</th>\n",
       "      <th>Avg Num in Bar Queue</th>\n",
       "      <th>Avg Num in Cash Queue</th>\n",
       "      <th>Server Utilization</th>\n",
       "    </tr>\n",
       "  </thead>\n",
       "  <tbody>\n",
       "    <tr>\n",
       "      <th>0</th>\n",
       "      <td>-8.877848</td>\n",
       "      <td>-2.955199</td>\n",
       "      <td>26.676044</td>\n",
       "      <td>-34.530009</td>\n",
       "      <td>61.530424</td>\n",
       "      <td>3.055986</td>\n",
       "    </tr>\n",
       "    <tr>\n",
       "      <th>0</th>\n",
       "      <td>-22.346562</td>\n",
       "      <td>15.940386</td>\n",
       "      <td>0.713533</td>\n",
       "      <td>28.929540</td>\n",
       "      <td>2.866470</td>\n",
       "      <td>2.930537</td>\n",
       "    </tr>\n",
       "    <tr>\n",
       "      <th>0</th>\n",
       "      <td>-6.241433</td>\n",
       "      <td>11.027095</td>\n",
       "      <td>-1.951818</td>\n",
       "      <td>16.916655</td>\n",
       "      <td>-6.823810</td>\n",
       "      <td>1.781330</td>\n",
       "    </tr>\n",
       "    <tr>\n",
       "      <th>0</th>\n",
       "      <td>-28.550927</td>\n",
       "      <td>-21.304306</td>\n",
       "      <td>-34.254539</td>\n",
       "      <td>-51.243335</td>\n",
       "      <td>-51.051599</td>\n",
       "      <td>-16.452624</td>\n",
       "    </tr>\n",
       "    <tr>\n",
       "      <th>0</th>\n",
       "      <td>-6.696499</td>\n",
       "      <td>0.584111</td>\n",
       "      <td>-20.282984</td>\n",
       "      <td>10.805084</td>\n",
       "      <td>-40.314309</td>\n",
       "      <td>-6.513494</td>\n",
       "    </tr>\n",
       "    <tr>\n",
       "      <th>0</th>\n",
       "      <td>14.601309</td>\n",
       "      <td>-8.797202</td>\n",
       "      <td>-18.024015</td>\n",
       "      <td>-2.219231</td>\n",
       "      <td>-40.493962</td>\n",
       "      <td>-7.067836</td>\n",
       "    </tr>\n",
       "    <tr>\n",
       "      <th>0</th>\n",
       "      <td>33.161186</td>\n",
       "      <td>-17.434033</td>\n",
       "      <td>-18.993804</td>\n",
       "      <td>-16.534899</td>\n",
       "      <td>-47.123231</td>\n",
       "      <td>-14.278176</td>\n",
       "    </tr>\n",
       "  </tbody>\n",
       "</table>\n",
       "</div>"
      ],
      "text/plain": [
       "   Num of Mobile Bypassing Physical  Avg Time in Starbucks Mobile Customer  \\\n",
       "0                         -8.877848                              -2.955199   \n",
       "0                        -22.346562                              15.940386   \n",
       "0                         -6.241433                              11.027095   \n",
       "0                        -28.550927                             -21.304306   \n",
       "0                         -6.696499                               0.584111   \n",
       "0                         14.601309                              -8.797202   \n",
       "0                         33.161186                             -17.434033   \n",
       "\n",
       "   Avg Time in Starbucks Physical Customer  Avg Num in Bar Queue  \\\n",
       "0                                26.676044            -34.530009   \n",
       "0                                 0.713533             28.929540   \n",
       "0                                -1.951818             16.916655   \n",
       "0                               -34.254539            -51.243335   \n",
       "0                               -20.282984             10.805084   \n",
       "0                               -18.024015             -2.219231   \n",
       "0                               -18.993804            -16.534899   \n",
       "\n",
       "   Avg Num in Cash Queue  Server Utilization  \n",
       "0              61.530424            3.055986  \n",
       "0               2.866470            2.930537  \n",
       "0              -6.823810            1.781330  \n",
       "0             -51.051599          -16.452624  \n",
       "0             -40.314309           -6.513494  \n",
       "0             -40.493962           -7.067836  \n",
       "0             -47.123231          -14.278176  "
      ]
     },
     "execution_count": 18,
     "metadata": {},
     "output_type": "execute_result"
    }
   ],
   "source": [
    "percent_improvements_pmobile_no_switching"
   ]
  },
  {
   "cell_type": "markdown",
   "metadata": {},
   "source": [
    "# Plot Average Time in Starbucks Mobile and Physical (Percent Improvement)\n",
    " one line mobile improvement, one like physical improvement\n"
   ]
  },
  {
   "cell_type": "code",
   "execution_count": 20,
   "metadata": {},
   "outputs": [
    {
     "data": {
      "image/png": "[encoded data removed]",
      "text/plain": [
       "<Figure size 432x288 with 1 Axes>"
      ]
     },
     "metadata": {
      "needs_background": "light"
     },
     "output_type": "display_data"
    }
   ],
   "source": [
    "#plt.plot(0.3,0, 'ro', label = 'Current')\n",
    "#plt.plot(p_mobiles,metrics_with_switching['Avg Time in Starbucks Mobile Customer'], label = 'Mobile - Optimal Switching')\n",
    "#plt.plot(p_mobiles,metrics_with_switching['Avg Time in Starbucks Physical Customer'], label = 'Physical - Optimal Switching')\n",
    "plt.plot(p_mobiles,metrics_no_switching['Avg Time in Starbucks Mobile Customer'], 'ro', label = 'Mobile - No Switching')\n",
    "plt.plot(p_mobiles,metrics_no_switching['Avg Time in Starbucks Physical Customer'], 'bo',label = 'Physical - No Switching')\n",
    "plt.legend()\n",
    "plt.xlabel('Pmobile')\n",
    "plt.ylabel('Time in System')\n",
    "plt.ylim(0,0.40)\n",
    "#plt.title('Time in System as Percent of Mobile Orders Changes')\n",
    "plt.savefig('Time in System as pMobile changes with vac and aband.png')"
   ]
  },
  {
   "cell_type": "markdown",
   "metadata": {},
   "source": [
    "# Average Queue Length Mobile and Physical (Percent Improvement)"
   ]
  },
  {
   "cell_type": "code",
   "execution_count": 21,
   "metadata": {},
   "outputs": [
    {
     "data": {
      "image/png": "[encoded data removed]",
      "text/plain": [
       "<Figure size 432x288 with 1 Axes>"
      ]
     },
     "metadata": {
      "needs_background": "light"
     },
     "output_type": "display_data"
    }
   ],
   "source": [
    "#plt.plot(0.3,0, 'ro', label = 'Current')\n",
    "#plt.plot(p_mobiles,metrics_with_switching['Avg Num in Bar Queue'], label = 'Bar - Optimal Switching')\n",
    "#plt.plot(p_mobiles,metrics_with_switching['Avg Num in Cash Queue'], label = 'Cash - Optimal Switching')\n",
    "plt.plot(p_mobiles,metrics_no_switching['Avg Num in Bar Queue'], 'ro', label = 'Bar - No Switching')\n",
    "plt.plot(p_mobiles,metrics_no_switching['Avg Num in Cash Queue'],'bo', label = 'Cash - No Switching')\n",
    "plt.legend()\n",
    "plt.xlabel('Pmobile')\n",
    "plt.ylabel('Queue Length')\n",
    "#plt.title('Queue Length as Percent of Mobile Orders Changes')\n",
    "plt.savefig('Queue Length as pMobile changes with vac and aband.png')"
   ]
  },
  {
   "cell_type": "markdown",
   "metadata": {},
   "source": [
    "# Utilization Rate"
   ]
  },
  {
   "cell_type": "code",
   "execution_count": 22,
   "metadata": {},
   "outputs": [
    {
     "data": {
      "image/png": "[encoded data removed]",
      "text/plain": [
       "<Figure size 432x288 with 1 Axes>"
      ]
     },
     "metadata": {
      "needs_background": "light"
     },
     "output_type": "display_data"
    }
   ],
   "source": [
    "#plt.plot(0.3,0, 'ro', label = 'Current')\n",
    "plt.plot(p_mobiles,metrics_no_switching['Server Utilization'],'ro')\n",
    "plt.legend()\n",
    "plt.xlabel('Pmobile')\n",
    "plt.ylabel('Utilization Rate')\n",
    "#plt.title('Utilization Rate as Percentage of Mobile Orders Change')\n",
    "plt.savefig('utilization as pMobile changes with vac and aband.png')"
   ]
  },
  {
   "cell_type": "code",
   "execution_count": 116,
   "metadata": {},
   "outputs": [
    {
     "data": {
      "text/plain": [
       "0    1.807399\n",
       "0    1.850885\n",
       "0    1.559662\n",
       "0    1.400633\n",
       "0    1.414390\n",
       "0    1.196429\n",
       "0    1.289256\n",
       "Name: Num of Mobile Bypassing Physical, dtype: float64"
      ]
     },
     "execution_count": 116,
     "metadata": {},
     "output_type": "execute_result"
    }
   ],
   "source": [
    "metrics_no_switching['Num of Mobile Bypassing Physical']"
   ]
  },
  {
   "cell_type": "code",
   "execution_count": 117,
   "metadata": {},
   "outputs": [
    {
     "ename": "PermissionError",
     "evalue": "[Errno 13] Permission denied: 'pmobile 0.1 results.csv'",
     "output_type": "error",
     "traceback": [
      "\u001b[1;31m---------------------------------------------------------------------------\u001b[0m",
      "\u001b[1;31mPermissionError\u001b[0m                           Traceback (most recent call last)",
      "\u001b[1;32m<ipython-input-117-5cb497eca746>\u001b[0m in \u001b[0;36m<module>\u001b[1;34m\u001b[0m\n\u001b[0;32m      1\u001b[0m \u001b[0mp_1\u001b[0m \u001b[1;33m=\u001b[0m \u001b[0mcalc_metrics\u001b[0m\u001b[1;33m(\u001b[0m\u001b[0mrun_original_simulation\u001b[0m\u001b[1;33m(\u001b[0m\u001b[1;36m0.1\u001b[0m\u001b[1;33m,\u001b[0m\u001b[1;36m0.1\u001b[0m\u001b[1;33m)\u001b[0m\u001b[1;33m)\u001b[0m\u001b[1;33m\u001b[0m\u001b[1;33m\u001b[0m\u001b[0m\n\u001b[1;32m----> 2\u001b[1;33m \u001b[0mp_1\u001b[0m\u001b[1;33m.\u001b[0m\u001b[0mto_csv\u001b[0m\u001b[1;33m(\u001b[0m\u001b[1;34m'pmobile 0.1 results.csv'\u001b[0m\u001b[1;33m)\u001b[0m\u001b[1;33m\u001b[0m\u001b[1;33m\u001b[0m\u001b[0m\n\u001b[0m",
      "\u001b[1;32m~\\Anaconda3\\lib\\site-packages\\pandas\\core\\generic.py\u001b[0m in \u001b[0;36mto_csv\u001b[1;34m(self, path_or_buf, sep, na_rep, float_format, columns, header, index, index_label, mode, encoding, compression, quoting, quotechar, line_terminator, chunksize, tupleize_cols, date_format, doublequote, escapechar, decimal)\u001b[0m\n\u001b[0;32m   3018\u001b[0m                                  \u001b[0mdoublequote\u001b[0m\u001b[1;33m=\u001b[0m\u001b[0mdoublequote\u001b[0m\u001b[1;33m,\u001b[0m\u001b[1;33m\u001b[0m\u001b[1;33m\u001b[0m\u001b[0m\n\u001b[0;32m   3019\u001b[0m                                  escapechar=escapechar, decimal=decimal)\n\u001b[1;32m-> 3020\u001b[1;33m         \u001b[0mformatter\u001b[0m\u001b[1;33m.\u001b[0m\u001b[0msave\u001b[0m\u001b[1;33m(\u001b[0m\u001b[1;33m)\u001b[0m\u001b[1;33m\u001b[0m\u001b[1;33m\u001b[0m\u001b[0m\n\u001b[0m\u001b[0;32m   3021\u001b[0m \u001b[1;33m\u001b[0m\u001b[0m\n\u001b[0;32m   3022\u001b[0m         \u001b[1;32mif\u001b[0m \u001b[0mpath_or_buf\u001b[0m \u001b[1;32mis\u001b[0m \u001b[1;32mNone\u001b[0m\u001b[1;33m:\u001b[0m\u001b[1;33m\u001b[0m\u001b[1;33m\u001b[0m\u001b[0m\n",
      "\u001b[1;32m~\\Anaconda3\\lib\\site-packages\\pandas\\io\\formats\\csvs.py\u001b[0m in \u001b[0;36msave\u001b[1;34m(self)\u001b[0m\n\u001b[0;32m    155\u001b[0m             f, handles = _get_handle(self.path_or_buf, self.mode,\n\u001b[0;32m    156\u001b[0m                                      \u001b[0mencoding\u001b[0m\u001b[1;33m=\u001b[0m\u001b[0mself\u001b[0m\u001b[1;33m.\u001b[0m\u001b[0mencoding\u001b[0m\u001b[1;33m,\u001b[0m\u001b[1;33m\u001b[0m\u001b[1;33m\u001b[0m\u001b[0m\n\u001b[1;32m--> 157\u001b[1;33m                                      compression=self.compression)\n\u001b[0m\u001b[0;32m    158\u001b[0m             \u001b[0mclose\u001b[0m \u001b[1;33m=\u001b[0m \u001b[1;32mTrue\u001b[0m\u001b[1;33m\u001b[0m\u001b[1;33m\u001b[0m\u001b[0m\n\u001b[0;32m    159\u001b[0m \u001b[1;33m\u001b[0m\u001b[0m\n",
      "\u001b[1;32m~\\Anaconda3\\lib\\site-packages\\pandas\\io\\common.py\u001b[0m in \u001b[0;36m_get_handle\u001b[1;34m(path_or_buf, mode, encoding, compression, memory_map, is_text)\u001b[0m\n\u001b[0;32m    422\u001b[0m         \u001b[1;32melif\u001b[0m \u001b[0mencoding\u001b[0m\u001b[1;33m:\u001b[0m\u001b[1;33m\u001b[0m\u001b[1;33m\u001b[0m\u001b[0m\n\u001b[0;32m    423\u001b[0m             \u001b[1;31m# Python 3 and encoding\u001b[0m\u001b[1;33m\u001b[0m\u001b[1;33m\u001b[0m\u001b[1;33m\u001b[0m\u001b[0m\n\u001b[1;32m--> 424\u001b[1;33m             \u001b[0mf\u001b[0m \u001b[1;33m=\u001b[0m \u001b[0mopen\u001b[0m\u001b[1;33m(\u001b[0m\u001b[0mpath_or_buf\u001b[0m\u001b[1;33m,\u001b[0m \u001b[0mmode\u001b[0m\u001b[1;33m,\u001b[0m \u001b[0mencoding\u001b[0m\u001b[1;33m=\u001b[0m\u001b[0mencoding\u001b[0m\u001b[1;33m,\u001b[0m \u001b[0mnewline\u001b[0m\u001b[1;33m=\u001b[0m\u001b[1;34m\"\"\u001b[0m\u001b[1;33m)\u001b[0m\u001b[1;33m\u001b[0m\u001b[1;33m\u001b[0m\u001b[0m\n\u001b[0m\u001b[0;32m    425\u001b[0m         \u001b[1;32melif\u001b[0m \u001b[0mis_text\u001b[0m\u001b[1;33m:\u001b[0m\u001b[1;33m\u001b[0m\u001b[1;33m\u001b[0m\u001b[0m\n\u001b[0;32m    426\u001b[0m             \u001b[1;31m# Python 3 and no explicit encoding\u001b[0m\u001b[1;33m\u001b[0m\u001b[1;33m\u001b[0m\u001b[1;33m\u001b[0m\u001b[0m\n",
      "\u001b[1;31mPermissionError\u001b[0m: [Errno 13] Permission denied: 'pmobile 0.1 results.csv'"
     ]
    }
   ],
   "source": [
    "p_1 = calc_metrics(run_original_simulation(0.1,0.1))\n",
    "p_1.to_csv('pmobile 0.1 results.csv')"
   ]
  },
  {
   "cell_type": "code",
   "execution_count": null,
   "metadata": {},
   "outputs": [],
   "source": [
    "p_9 = calc_metrics(run_original_simulation(0.9,0.1))\n",
    "p_9.to_csv('pmobile 0.9 results.csv')"
   ]
  },
  {
   "cell_type": "code",
   "execution_count": null,
   "metadata": {},
   "outputs": [],
   "source": [
    "plt.plot(p_mobiles,metrics_no_switching['Num of Mobile Bypassing Physical'], 'ro')\n",
    "plt.xlabel('Pmobile')\n",
    "plt.ylable('Number of Mobile Customers Bypassing Physical')"
   ]
  },
  {
   "cell_type": "code",
   "execution_count": null,
   "metadata": {},
   "outputs": [],
   "source": []
  }
 ],
 "metadata": {
  "kernelspec": {
   "display_name": "Python 3",
   "language": "python",
   "name": "python3"
  },
  "language_info": {
   "codemirror_mode": {
    "name": "ipython",
    "version": 3
   },
   "file_extension": ".py",
   "mimetype": "text/x-python",
   "name": "python",
   "nbconvert_exporter": "python",
   "pygments_lexer": "ipython3",
   "version": "3.7.3"
  }
 },
 "nbformat": 4,
 "nbformat_minor": 2
}
