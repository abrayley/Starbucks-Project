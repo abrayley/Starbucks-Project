{
 "cells": [
  {
   "cell_type": "markdown",
   "metadata": {},
   "source": [
    "# Model Validation\n"
   ]
  },
  {
   "cell_type": "code",
   "execution_count": 57,
   "metadata": {},
   "outputs": [],
   "source": [
    "import Starbucks as sbs\n",
    "import numpy as np\n",
    "from QueueingFunction import Queueing\n",
    "import matplotlib.pyplot as plt"
   ]
  },
  {
   "cell_type": "markdown",
   "metadata": {},
   "source": [
    "## Validate Queue Lengths"
   ]
  },
  {
   "cell_type": "code",
   "execution_count": 67,
   "metadata": {},
   "outputs": [],
   "source": [
    "# Make simulation into jackson network of 2 M/M/c/inf queues\n",
    "a = sbs.Starbucks()\n",
    "\n",
    "# customer parametres\n",
    "starbucksArrivalRate = 75\n",
    "pMobile = 0.3\n",
    "pCoffee = 0.1\n",
    "meanPatienceTime = np.inf # no abandoning\n",
    "\n",
    "# server parameters\n",
    "cashRate = 62\n",
    "barRate = 18\n",
    "cTotal = 6\n",
    "initialCashC = 1\n",
    "vacationMeanLength = 0\n",
    "\n",
    "# system operating parameters\n",
    "numCashReg = 2\n",
    "# switchRatio = cashQueueLength / barQueueLength\n",
    "switchRatioCashtoBar = 0 # never switch from cash to bar\n",
    "switchRatioBartoCash = 0 # never switch from bar to cash\n",
    "\n",
    "# simulation parameters\n",
    "simDuration = 100\n",
    "\n",
    " \n",
    "a.simulation(starbucksArrivalRate, \n",
    "             pMobile,   \n",
    "             pCoffee , \n",
    "             cashRate, \n",
    "             barRate ,     \n",
    "             simDuration, \n",
    "             cTotal, \n",
    "             initialCashC, \n",
    "             numCashReg,\n",
    "             switchRatioCashtoBar, \n",
    "             switchRatioBartoCash, \n",
    "             meanPatienceTime, \n",
    "             vacationMeanLength,\n",
    "             isSwitchingSystem = False,\n",
    "             isBalkingSystem = False)"
   ]
  },
  {
   "cell_type": "code",
   "execution_count": 68,
   "metadata": {},
   "outputs": [],
   "source": [
    "# Cashier System\n",
    "cashArrivalRate = (1 - pMobile) * starbucksArrivalRate\n",
    "cash_metrics = Queueing('MMc', cashArrivalRate, cashRate, initialCashC)\n",
    "\n",
    "# Bar System\n",
    "barArrivalRate = starbucksArrivalRate * (1 - pCoffee * (1 - pMobile))\n",
    "bar_metrics = Queueing('MMc', barArrivalRate, barRate, cTotal - initialCashC)"
   ]
  },
  {
   "cell_type": "code",
   "execution_count": 69,
   "metadata": {},
   "outputs": [
    {
     "name": "stdout",
     "output_type": "stream",
     "text": [
      "(0.8467741935483871, 5.526315789473686, 0.10526315789473688, 0.08913412563667236, 4.679541595925299, 0.15322580645161288)\n",
      "(0.775, 5.621073142057215, 0.08058886225171634, 0.025033306696160787, 1.7460731420572149, 0.01566565210302512)\n"
     ]
    }
   ],
   "source": [
    "print(cash_metrics)\n",
    "print(bar_metrics)"
   ]
  },
  {
   "cell_type": "code",
   "execution_count": 70,
   "metadata": {},
   "outputs": [],
   "source": [
    "def make_metrics_key(metrics):\n",
    "    # metrics[0] = rho\n",
    "    # metrics[1] = avg people in system\n",
    "    # metrics[2] = avg time in system\n",
    "    # metrics[3] = avg people in queue\n",
    "    # metrics[4] = avg time in queue\n",
    "    # metrics[5] = probability system is empty\n",
    "    \n",
    "    met_dict = {\n",
    "        'rho' : metrics[0],\n",
    "        'avgNumSystem' : metrics[1],\n",
    "        'avgWaitSystem' : metrics[2],\n",
    "        'avgNumQueue' : metrics[4],\n",
    "        'avgWaitQueue' : metrics[3],\n",
    "        'probEmpty' : metrics[5]\n",
    "    }\n",
    "    \n",
    "    return met_dict"
   ]
  },
  {
   "cell_type": "code",
   "execution_count": 71,
   "metadata": {},
   "outputs": [],
   "source": [
    "theoretical_cash_key = make_metrics_key(cash_metrics)\n",
    "theoretical_bar_key = make_metrics_key(bar_metrics)"
   ]
  },
  {
   "cell_type": "code",
   "execution_count": 72,
   "metadata": {},
   "outputs": [],
   "source": [
    "t = np.array(a.times)"
   ]
  },
  {
   "cell_type": "code",
   "execution_count": 73,
   "metadata": {},
   "outputs": [],
   "source": [
    "def calc_wait_time(c):\n",
    "    if c.mobile == 1:\n",
    "        return c.timeExitBarQ - c.timeEnterBarQ\n",
    "    if c.mobile == 0 and c.coffee == 0:\n",
    "        return c.timeExitBarQ - c.timeEnterBarQ + c.timeExitCashQ - c.timeEnterCashQ\n",
    "    if c.mobile == 0 and c.coffee == 1:\n",
    "        return c.timeExitCashQ - c.timeEnterCashQ\n",
    "\n",
    "def calc_cash_time(c):\n",
    "    if c.mobile == 0:\n",
    "        return c.timeExitCashQ - c.timeEnterCashQ\n",
    "\n",
    "def calc_bar_time(c):\n",
    "    if c.coffee == 0:\n",
    "        return c.timeExitBarQ - c.timeEnterBarQ\n",
    "        \n",
    "    \n",
    "    \n",
    "def calc_starbucks_time(c):\n",
    "    return c.timeExitStbks - c.timeEnterStbks\n",
    "        \n",
    "def calc_cum_average_of_metric(metric):\n",
    "    cum_average = np.cumsum(metric) / np.cumsum(np.arange(len(metric)))\n",
    "    return cum_average"
   ]
  },
  {
   "cell_type": "code",
   "execution_count": 74,
   "metadata": {},
   "outputs": [],
   "source": [
    "customer_cash_times = [calc_cash_time(c) for c in a.completedCustomers if calc_cash_time(c) is not None]\n",
    "customer_bar_times = [calc_bar_time(c) for c in a.completedCustomers if calc_bar_time(c) is not None]"
   ]
  },
  {
   "cell_type": "code",
   "execution_count": 75,
   "metadata": {},
   "outputs": [
    {
     "data": {
      "text/plain": [
       "0.1012045088601522"
      ]
     },
     "execution_count": 75,
     "metadata": {},
     "output_type": "execute_result"
    }
   ],
   "source": [
    "np.mean(customer_cash_times)"
   ]
  },
  {
   "cell_type": "code",
   "execution_count": 37,
   "metadata": {},
   "outputs": [
    {
     "data": {
      "text/plain": [
       "0.027542167091204793"
      ]
     },
     "execution_count": 37,
     "metadata": {},
     "output_type": "execute_result"
    }
   ],
   "source": [
    "np.mean(customer_bar_times)"
   ]
  },
  {
   "cell_type": "code",
   "execution_count": 13,
   "metadata": {
    "scrolled": true
   },
   "outputs": [
    {
     "data": {
      "text/plain": [
       "<matplotlib.legend.Legend at 0x7f1e2e0ee4e0>"
      ]
     },
     "execution_count": 13,
     "metadata": {},
     "output_type": "execute_result"
    },
    {
     "data": {
      "image/png": "[encoded data removed]",
      "text/plain": [
       "<Figure size 432x288 with 1 Axes>"
      ]
     },
     "metadata": {
      "needs_background": "light"
     },
     "output_type": "display_data"
    }
   ],
   "source": [
    "plt.plot(bq, label='bar')\n",
    "plt.plot(cq, label='cash')\n",
    "plt.legend()"
   ]
  },
  {
   "cell_type": "code",
   "execution_count": 14,
   "metadata": {},
   "outputs": [],
   "source": [
    "def calc_average_queue_length(q, t):\n",
    "    return np.cumsum(q[1:] * (t[1:] - t[:-1])) / t[:-1]"
   ]
  },
  {
   "cell_type": "code",
   "execution_count": 12,
   "metadata": {},
   "outputs": [],
   "source": [
    "bq = np.array(a.barqlength)\n",
    "cq = np.array(a.cashqlength)"
   ]
  },
  {
   "cell_type": "code",
   "execution_count": 15,
   "metadata": {},
   "outputs": [],
   "source": [
    "avg_bq = calc_average_queue_length(bq, t)\n",
    "avg_cq = calc_average_queue_length(cq, t)"
   ]
  },
  {
   "cell_type": "code",
   "execution_count": 16,
   "metadata": {},
   "outputs": [
    {
     "data": {
      "image/png": "[encoded data removed]",
      "text/plain": [
       "<Figure size 432x288 with 1 Axes>"
      ]
     },
     "metadata": {
      "needs_background": "light"
     },
     "output_type": "display_data"
    }
   ],
   "source": [
    "plt.figure()\n",
    "plt.plot(t[1:], avg_bq, label='bar')\n",
    "plt.plot(t[1:], avg_cq, label='cash')\n",
    "plt.legend()\n",
    "plt.xlabel('time')\n",
    "plt.ylabel('average queue length')\n",
    "plt.show()"
   ]
  },
  {
   "cell_type": "code",
   "execution_count": 19,
   "metadata": {},
   "outputs": [
    {
     "data": {
      "text/plain": [
       "1.9602252921192702"
      ]
     },
     "execution_count": 19,
     "metadata": {},
     "output_type": "execute_result"
    }
   ],
   "source": [
    "avg_bq[-1]"
   ]
  },
  {
   "cell_type": "code",
   "execution_count": 21,
   "metadata": {},
   "outputs": [
    {
     "data": {
      "text/plain": [
       "4.8120457635039"
      ]
     },
     "execution_count": 21,
     "metadata": {},
     "output_type": "execute_result"
    }
   ],
   "source": [
    "avg_cq[-1]"
   ]
  },
  {
   "cell_type": "code",
   "execution_count": 17,
   "metadata": {},
   "outputs": [
    {
     "data": {
      "text/plain": [
       "{'rho': 0.775,\n",
       " 'avgNumSystem': 5.621073142057215,\n",
       " 'avgWaitSystem': 0.08058886225171634,\n",
       " 'avgNumQueue': 1.7460731420572149,\n",
       " 'avgWaitQueue': 0.025033306696160787,\n",
       " 'probEmpty': 0.01566565210302512}"
      ]
     },
     "execution_count": 17,
     "metadata": {},
     "output_type": "execute_result"
    }
   ],
   "source": [
    "theoretical_bar_key"
   ]
  },
  {
   "cell_type": "code",
   "execution_count": 18,
   "metadata": {},
   "outputs": [
    {
     "data": {
      "text/plain": [
       "{'rho': 0.8467741935483871,\n",
       " 'avgNumSystem': 5.526315789473686,\n",
       " 'avgWaitSystem': 0.10526315789473688,\n",
       " 'avgNumQueue': 4.679541595925299,\n",
       " 'avgWaitQueue': 0.08913412563667236,\n",
       " 'probEmpty': 0.15322580645161288}"
      ]
     },
     "execution_count": 18,
     "metadata": {},
     "output_type": "execute_result"
    }
   ],
   "source": [
    "theoretical_cash_key"
   ]
  },
  {
   "cell_type": "markdown",
   "metadata": {},
   "source": [
    "## Stability Calculations"
   ]
  },
  {
   "cell_type": "markdown",
   "metadata": {},
   "source": [
    "1. $\\lambda_{in} = \\lambda_{out}$\n",
    "2. $\\lambda_{in} < \\mu \\cdot n_{servers}$\n",
    "\n",
    "### Cashier Queue Stability:\n",
    "$$ (1 - p_m) \\cdot \\lambda < \\mu_c \\cdot n_c $$\n",
    "\n",
    "Minimum number of cahsiers:\n",
    "$$ n_c > \\frac{(1 - p_m) \\cdot \\lambda}{\\mu_c} $$\n",
    "\n",
    "### Bar Queue Stability:\n",
    "$$ (1 - p_m) \\cdot (1 - p_c) \\cdot \\lambda + p_m \\cdot \\lambda < \\mu_b \\cdot n_b$$\n",
    "$$ (1 - p_m -  p_c \\cdot (1 - p_m) + p_m) \\cdot \\lambda < \\mu_b \\cdot n_b$$\n",
    "$$ (1 - p_c \\cdot (1 - p_m) ) \\cdot \\lambda < \\mu_b \\cdot n_b$$\n",
    "\n",
    "Minimum number of baristas:\n",
    "$$ n_b > \\frac{\\lambda \\cdot (1 - p_c + p_c \\cdot p_m )}{\\mu_b}$$"
   ]
  },
  {
   "cell_type": "code",
   "execution_count": 18,
   "metadata": {},
   "outputs": [],
   "source": [
    "def calcMinCashServers(a):\n",
    "    return np.ceil((1 - a.pMobile) * a.starbucksArrivalRate / a.cashRate)\n",
    "\n",
    "def calcMinBarServers(a):\n",
    "    return np.ceil(a.starbucksArrivalRate * (1 - a.pCoffee + a.pCoffee * a.pMobile) / a.barRate)\n",
    "\n",
    "def calcMinServers(a):\n",
    "    minCashServers = calcMinCashServers(a)\n",
    "    minBarServers = calcMinBarServers(a)\n",
    "    return minCashServers, minBarServers"
   ]
  },
  {
   "cell_type": "code",
   "execution_count": 19,
   "metadata": {},
   "outputs": [],
   "source": [
    "def calcIsCashStable(a):\n",
    "    return a.cCash >= calcMinCashServers(a)\n",
    "\n",
    "def calcIsBarStable(a):\n",
    "    return a.cBar >= calcMinBarServers(a)\n",
    "\n",
    "def calcIsStarbucksStable(a):\n",
    "    return calcIsCashStable(a) and calcIsBarStable(a)"
   ]
  },
  {
   "cell_type": "code",
   "execution_count": 20,
   "metadata": {},
   "outputs": [
    {
     "data": {
      "text/plain": [
       "True"
      ]
     },
     "execution_count": 20,
     "metadata": {},
     "output_type": "execute_result"
    }
   ],
   "source": [
    "calcIsCashStable(a)"
   ]
  },
  {
   "cell_type": "code",
   "execution_count": 21,
   "metadata": {},
   "outputs": [
    {
     "data": {
      "text/plain": [
       "True"
      ]
     },
     "execution_count": 21,
     "metadata": {},
     "output_type": "execute_result"
    }
   ],
   "source": [
    "calcIsBarStable(a)"
   ]
  },
  {
   "cell_type": "code",
   "execution_count": 22,
   "metadata": {},
   "outputs": [
    {
     "data": {
      "text/plain": [
       "4.0"
      ]
     },
     "execution_count": 22,
     "metadata": {},
     "output_type": "execute_result"
    }
   ],
   "source": [
    "calcMinBarServers(a)"
   ]
  },
  {
   "cell_type": "code",
   "execution_count": 23,
   "metadata": {},
   "outputs": [
    {
     "data": {
      "text/plain": [
       "1.0"
      ]
     },
     "execution_count": 23,
     "metadata": {},
     "output_type": "execute_result"
    }
   ],
   "source": [
    "calcMinCashServers(a)"
   ]
  },
  {
   "cell_type": "markdown",
   "metadata": {},
   "source": [
    "# Validate Vacationing and Server Switching"
   ]
  },
  {
   "cell_type": "code",
   "execution_count": 24,
   "metadata": {},
   "outputs": [
    {
     "data": {
      "text/plain": [
       "<matplotlib.legend.Legend at 0x7f01dc453080>"
      ]
     },
     "execution_count": 24,
     "metadata": {},
     "output_type": "execute_result"
    },
    {
     "data": {
      "image/png": "[encoded data removed]",
      "text/plain": [
       "<Figure size 432x288 with 1 Axes>"
      ]
     },
     "metadata": {
      "needs_background": "light"
     },
     "output_type": "display_data"
    }
   ],
   "source": [
    "plt.plot(a.numberServersOnVacationBar, label = 'vacation bar')\n",
    "plt.plot(a.numberServersOnVacationCash, label = 'vacation cash')\n",
    "plt.legend()"
   ]
  },
  {
   "cell_type": "code",
   "execution_count": 25,
   "metadata": {},
   "outputs": [],
   "source": [
    "total = []\n",
    "cashServers = []\n",
    "barServers = []\n",
    "for i in range(len(a.numberOccupiedServersCash)):\n",
    "    barServers.append(a.numberOccupiedServersBar[i] +a.numberUnoccupiedServersBar[i] + a.numberServersOnVacationBar[i])\n",
    "    cashServers.append(a.numberOccupiedServersCash[i] +a.numberUnoccupiedServersCash[i]+a.numberServersOnVacationCash[i])\n",
    "    total.append(barServers[i] + cashServers[i])"
   ]
  },
  {
   "cell_type": "code",
   "execution_count": 26,
   "metadata": {},
   "outputs": [
    {
     "data": {
      "text/plain": [
       "<matplotlib.legend.Legend at 0x7f01dc394588>"
      ]
     },
     "execution_count": 26,
     "metadata": {},
     "output_type": "execute_result"
    },
    {
     "data": {
      "image/png": "[encoded data removed]",
      "text/plain": [
       "<Figure size 432x288 with 1 Axes>"
      ]
     },
     "metadata": {
      "needs_background": "light"
     },
     "output_type": "display_data"
    }
   ],
   "source": [
    "#plt.plot(s[0:100], label = 'all')\n",
    "plt.plot(total[0:100], label = 'total employees')\n",
    "plt.plot(barServers[0:100], label = 'bar')\n",
    "plt.plot(cashServers[0:100], label = 'cash')\n",
    "plt.legend()"
   ]
  },
  {
   "cell_type": "code",
   "execution_count": null,
   "metadata": {},
   "outputs": [],
   "source": []
  }
 ],
 "metadata": {
  "kernelspec": {
   "display_name": "Python 3",
   "language": "python",
   "name": "python3"
  },
  "language_info": {
   "codemirror_mode": {
    "name": "ipython",
    "version": 3
   },
   "file_extension": ".py",
   "mimetype": "text/x-python",
   "name": "python",
   "nbconvert_exporter": "python",
   "pygments_lexer": "ipython3",
   "version": "3.7.3"
  }
 },
 "nbformat": 4,
 "nbformat_minor": 2
}
