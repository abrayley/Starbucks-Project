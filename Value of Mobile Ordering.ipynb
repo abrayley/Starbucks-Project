{
 "cells": [
  {
   "cell_type": "code",
   "execution_count": 1,
   "metadata": {},
   "outputs": [],
   "source": [
    "import Starbucks as sbs\n",
    "import numpy as np\n",
    "import numpy.random\n",
    "import matplotlib.pyplot as plt\n",
    "import pandas as pd\n",
    "import seaborn as sns\n",
    "import Person as ppl\n",
    "import Employee as emp\n",
    "from scipy.optimize import minimize, basinhopping\n",
    "import seaborn as sns"
   ]
  },
  {
   "cell_type": "code",
   "execution_count": 2,
   "metadata": {},
   "outputs": [],
   "source": [
    "bar_to_cash_ratio = pd.read_csv(\"bar-to-cash-ratios.csv\", index_col = 0)\n",
    "cash_to_bar_ratio = pd.read_csv(\"cash-to_bar-ratios.csv\",index_col=0)\n",
    "p_mobiles = [0.2, 0.25, 0.3, 0.35, 0.4, 0.45, 0.5]\n",
    "p_coffees = [0.1, 0.15, 0.2, 0.25, 0.3, 0.35, 0.4]"
   ]
  },
  {
   "cell_type": "code",
   "execution_count": 3,
   "metadata": {},
   "outputs": [
    {
     "data": {
      "text/html": [
       "<div>\n",
       "<style scoped>\n",
       "    .dataframe tbody tr th:only-of-type {\n",
       "        vertical-align: middle;\n",
       "    }\n",
       "\n",
       "    .dataframe tbody tr th {\n",
       "        vertical-align: top;\n",
       "    }\n",
       "\n",
       "    .dataframe thead th {\n",
       "        text-align: right;\n",
       "    }\n",
       "</style>\n",
       "<table border=\"1\" class=\"dataframe\">\n",
       "  <thead>\n",
       "    <tr style=\"text-align: right;\">\n",
       "      <th></th>\n",
       "      <th>0.2</th>\n",
       "      <th>0.25</th>\n",
       "      <th>0.3</th>\n",
       "      <th>0.35</th>\n",
       "      <th>0.4</th>\n",
       "      <th>0.45</th>\n",
       "      <th>0.5</th>\n",
       "    </tr>\n",
       "  </thead>\n",
       "  <tbody>\n",
       "    <tr>\n",
       "      <th>0.10</th>\n",
       "      <td>4.256258</td>\n",
       "      <td>1.978468</td>\n",
       "      <td>1.782588</td>\n",
       "      <td>0.500000</td>\n",
       "      <td>2.460296</td>\n",
       "      <td>1.140262</td>\n",
       "      <td>5.732035</td>\n",
       "    </tr>\n",
       "    <tr>\n",
       "      <th>0.15</th>\n",
       "      <td>2.630956</td>\n",
       "      <td>1.865063</td>\n",
       "      <td>0.835007</td>\n",
       "      <td>4.280720</td>\n",
       "      <td>2.319117</td>\n",
       "      <td>1.133893</td>\n",
       "      <td>1.897491</td>\n",
       "    </tr>\n",
       "    <tr>\n",
       "      <th>0.20</th>\n",
       "      <td>1.955936</td>\n",
       "      <td>1.723798</td>\n",
       "      <td>1.681412</td>\n",
       "      <td>1.361076</td>\n",
       "      <td>1.673683</td>\n",
       "      <td>0.960069</td>\n",
       "      <td>1.427688</td>\n",
       "    </tr>\n",
       "    <tr>\n",
       "      <th>0.25</th>\n",
       "      <td>1.707688</td>\n",
       "      <td>3.305227</td>\n",
       "      <td>1.483878</td>\n",
       "      <td>1.800852</td>\n",
       "      <td>1.129324</td>\n",
       "      <td>1.118291</td>\n",
       "      <td>1.608962</td>\n",
       "    </tr>\n",
       "    <tr>\n",
       "      <th>0.30</th>\n",
       "      <td>1.935922</td>\n",
       "      <td>1.252154</td>\n",
       "      <td>2.590361</td>\n",
       "      <td>1.408546</td>\n",
       "      <td>4.171894</td>\n",
       "      <td>1.466752</td>\n",
       "      <td>1.997170</td>\n",
       "    </tr>\n",
       "    <tr>\n",
       "      <th>0.35</th>\n",
       "      <td>1.250662</td>\n",
       "      <td>1.328574</td>\n",
       "      <td>0.355732</td>\n",
       "      <td>1.711066</td>\n",
       "      <td>4.717839</td>\n",
       "      <td>2.488766</td>\n",
       "      <td>0.661855</td>\n",
       "    </tr>\n",
       "    <tr>\n",
       "      <th>0.40</th>\n",
       "      <td>2.281234</td>\n",
       "      <td>4.762860</td>\n",
       "      <td>0.977078</td>\n",
       "      <td>2.352103</td>\n",
       "      <td>0.865575</td>\n",
       "      <td>4.160477</td>\n",
       "      <td>2.264847</td>\n",
       "    </tr>\n",
       "  </tbody>\n",
       "</table>\n",
       "</div>"
      ],
      "text/plain": [
       "           0.2      0.25       0.3      0.35       0.4      0.45       0.5\n",
       "0.10  4.256258  1.978468  1.782588  0.500000  2.460296  1.140262  5.732035\n",
       "0.15  2.630956  1.865063  0.835007  4.280720  2.319117  1.133893  1.897491\n",
       "0.20  1.955936  1.723798  1.681412  1.361076  1.673683  0.960069  1.427688\n",
       "0.25  1.707688  3.305227  1.483878  1.800852  1.129324  1.118291  1.608962\n",
       "0.30  1.935922  1.252154  2.590361  1.408546  4.171894  1.466752  1.997170\n",
       "0.35  1.250662  1.328574  0.355732  1.711066  4.717839  2.488766  0.661855\n",
       "0.40  2.281234  4.762860  0.977078  2.352103  0.865575  4.160477  2.264847"
      ]
     },
     "execution_count": 3,
     "metadata": {},
     "output_type": "execute_result"
    }
   ],
   "source": [
    "bar_to_cash_ratio\n"
   ]
  },
  {
   "cell_type": "code",
   "execution_count": 4,
   "metadata": {},
   "outputs": [
    {
     "data": {
      "text/html": [
       "<div>\n",
       "<style scoped>\n",
       "    .dataframe tbody tr th:only-of-type {\n",
       "        vertical-align: middle;\n",
       "    }\n",
       "\n",
       "    .dataframe tbody tr th {\n",
       "        vertical-align: top;\n",
       "    }\n",
       "\n",
       "    .dataframe thead th {\n",
       "        text-align: right;\n",
       "    }\n",
       "</style>\n",
       "<table border=\"1\" class=\"dataframe\">\n",
       "  <thead>\n",
       "    <tr style=\"text-align: right;\">\n",
       "      <th></th>\n",
       "      <th>0.2</th>\n",
       "      <th>0.25</th>\n",
       "      <th>0.3</th>\n",
       "      <th>0.35</th>\n",
       "      <th>0.4</th>\n",
       "      <th>0.45</th>\n",
       "      <th>0.5</th>\n",
       "    </tr>\n",
       "  </thead>\n",
       "  <tbody>\n",
       "    <tr>\n",
       "      <th>0.10</th>\n",
       "      <td>4.189052</td>\n",
       "      <td>0.975286</td>\n",
       "      <td>0.997578</td>\n",
       "      <td>1.000000</td>\n",
       "      <td>2.078774</td>\n",
       "      <td>0.899050</td>\n",
       "      <td>4.150316</td>\n",
       "    </tr>\n",
       "    <tr>\n",
       "      <th>0.15</th>\n",
       "      <td>3.175849</td>\n",
       "      <td>2.325720</td>\n",
       "      <td>0.597336</td>\n",
       "      <td>1.279783</td>\n",
       "      <td>2.220248</td>\n",
       "      <td>0.049101</td>\n",
       "      <td>0.978006</td>\n",
       "    </tr>\n",
       "    <tr>\n",
       "      <th>0.20</th>\n",
       "      <td>1.321722</td>\n",
       "      <td>1.615157</td>\n",
       "      <td>0.716011</td>\n",
       "      <td>1.047496</td>\n",
       "      <td>1.287619</td>\n",
       "      <td>2.844077</td>\n",
       "      <td>5.631070</td>\n",
       "    </tr>\n",
       "    <tr>\n",
       "      <th>0.25</th>\n",
       "      <td>0.692649</td>\n",
       "      <td>0.584668</td>\n",
       "      <td>2.497068</td>\n",
       "      <td>1.746397</td>\n",
       "      <td>0.862524</td>\n",
       "      <td>2.223775</td>\n",
       "      <td>1.979290</td>\n",
       "    </tr>\n",
       "    <tr>\n",
       "      <th>0.30</th>\n",
       "      <td>0.479074</td>\n",
       "      <td>2.395480</td>\n",
       "      <td>0.841716</td>\n",
       "      <td>1.953072</td>\n",
       "      <td>5.419443</td>\n",
       "      <td>0.507236</td>\n",
       "      <td>0.600381</td>\n",
       "    </tr>\n",
       "    <tr>\n",
       "      <th>0.35</th>\n",
       "      <td>1.612846</td>\n",
       "      <td>1.104081</td>\n",
       "      <td>0.502215</td>\n",
       "      <td>2.778562</td>\n",
       "      <td>0.726248</td>\n",
       "      <td>2.795349</td>\n",
       "      <td>0.919283</td>\n",
       "    </tr>\n",
       "    <tr>\n",
       "      <th>0.40</th>\n",
       "      <td>0.350988</td>\n",
       "      <td>1.784461</td>\n",
       "      <td>2.598694</td>\n",
       "      <td>0.808276</td>\n",
       "      <td>1.034656</td>\n",
       "      <td>0.416597</td>\n",
       "      <td>7.802921</td>\n",
       "    </tr>\n",
       "  </tbody>\n",
       "</table>\n",
       "</div>"
      ],
      "text/plain": [
       "           0.2      0.25       0.3      0.35       0.4      0.45       0.5\n",
       "0.10  4.189052  0.975286  0.997578  1.000000  2.078774  0.899050  4.150316\n",
       "0.15  3.175849  2.325720  0.597336  1.279783  2.220248  0.049101  0.978006\n",
       "0.20  1.321722  1.615157  0.716011  1.047496  1.287619  2.844077  5.631070\n",
       "0.25  0.692649  0.584668  2.497068  1.746397  0.862524  2.223775  1.979290\n",
       "0.30  0.479074  2.395480  0.841716  1.953072  5.419443  0.507236  0.600381\n",
       "0.35  1.612846  1.104081  0.502215  2.778562  0.726248  2.795349  0.919283\n",
       "0.40  0.350988  1.784461  2.598694  0.808276  1.034656  0.416597  7.802921"
      ]
     },
     "execution_count": 4,
     "metadata": {},
     "output_type": "execute_result"
    }
   ],
   "source": [
    "cash_to_bar_ratio"
   ]
  },
  {
   "cell_type": "markdown",
   "metadata": {},
   "source": [
    "# Run Basic Simulation"
   ]
  },
  {
   "cell_type": "code",
   "execution_count": 77,
   "metadata": {},
   "outputs": [],
   "source": [
    "#Run simulation\n",
    "\n",
    "original_stbks = sbs.Starbucks()\n",
    "starbucksArrivalRate = 75\n",
    "pMobile = 0.3\n",
    "pCoffee = 0.1\n",
    "cashRate = 62\n",
    "barRate = 17.5\n",
    "simDuration = 100\n",
    "cTotal = 6\n",
    "initialCashC = 1\n",
    "numCashReg = 2 \n",
    "meanPatienceTime = np.inf\n",
    "vacationMeanLength = 0\n",
    "switchRatioCashtoBar = 0#0.997578\n",
    "switchRatioBartoCash = 0#1.782588\n",
    "np.random.seed(0)\n",
    "original_stbks.simulation(starbucksArrivalRate, \n",
    "                     pMobile,   \n",
    "                     pCoffee , \n",
    "                     cashRate, \n",
    "                     barRate ,     \n",
    "                     simDuration, \n",
    "                     cTotal, \n",
    "                     initialCashC, \n",
    "                     numCashReg,\n",
    "                     switchRatioCashtoBar, \n",
    "                     switchRatioBartoCash, \n",
    "                     meanPatienceTime, \n",
    "                     vacationMeanLength,\n",
    "                     isBalkingSystem = False)"
   ]
  },
  {
   "cell_type": "code",
   "execution_count": 54,
   "metadata": {},
   "outputs": [],
   "source": [
    "def run_original_simulation(p_mobile, p_coffee):\n",
    "    #Run simulation\n",
    "    \n",
    "    original_stbks = sbs.Starbucks()\n",
    "    starbucksArrivalRate = 75\n",
    "    pMobile = p_mobile\n",
    "    pCoffee = p_coffee\n",
    "    cashRate = 62\n",
    "    barRate = 17.5\n",
    "    simDuration = 50\n",
    "    cTotal = 6\n",
    "    initialCashC = 1\n",
    "    numCashReg = 2 \n",
    "    meanPatienceTime = np.inf\n",
    "    vacationMeanLength = 0\n",
    "    switchRatioCashtoBar = 1\n",
    "    switchRatioBartoCash = 2\n",
    "    #np.random.seed(10)\n",
    "    original_stbks.simulation(starbucksArrivalRate, \n",
    "                         pMobile,   \n",
    "                         pCoffee , \n",
    "                         cashRate, \n",
    "                         barRate ,     \n",
    "                         simDuration, \n",
    "                         cTotal, \n",
    "                         initialCashC, \n",
    "                         numCashReg,\n",
    "                         switchRatioCashtoBar, \n",
    "                         switchRatioBartoCash, \n",
    "                         meanPatienceTime, \n",
    "                         vacationMeanLength,\n",
    "                        isBalkingSystem = False)\n",
    "    return(original_stbks)"
   ]
  },
  {
   "cell_type": "markdown",
   "metadata": {},
   "source": [
    "# Run Simulation with Switching"
   ]
  },
  {
   "cell_type": "code",
   "execution_count": 40,
   "metadata": {},
   "outputs": [],
   "source": [
    "#Run simulation\n",
    "i = 2 #pmobile = 0.3\n",
    "j = 0 #pcoffee = 0.1\n",
    "switching_stbks = sbs.Starbucks()\n",
    "starbucksArrivalRate = 75\n",
    "pMobile = 0.3\n",
    "pCoffee = 0.1\n",
    "cashRate = 62\n",
    "barRate = 17.5\n",
    "simDuration = 100\n",
    "cTotal = 5\n",
    "initialCashC = 1\n",
    "numCashReg = 2 \n",
    "meanPatienceTime = np.inf \n",
    "vacationMeanLength = 0\n",
    "switchRatioCashtoBar = 1\n",
    "switchRatioBartoCash = 1.78\n",
    "#np.random.seed(0)\n",
    "switching_stbks.simulation(starbucksArrivalRate, \n",
    "                     pMobile,   \n",
    "                     pCoffee , \n",
    "                     cashRate, \n",
    "                     barRate ,     \n",
    "                     simDuration, \n",
    "                     cTotal, \n",
    "                     initialCashC, \n",
    "                     numCashReg,\n",
    "                     switchRatioCashtoBar, \n",
    "                     switchRatioBartoCash, \n",
    "                     meanPatienceTime, \n",
    "                     vacationMeanLength,\n",
    "                    isBalkingSystem = False)"
   ]
  },
  {
   "cell_type": "code",
   "execution_count": 41,
   "metadata": {},
   "outputs": [],
   "source": [
    "def run_switching_simulation(p_mobile, p_coffee):\n",
    "    #Run simulation\n",
    "\n",
    "    switching_stbks = sbs.Starbucks()\n",
    "    starbucksArrivalRate = 75\n",
    "    pMobile = p_mobile\n",
    "    pCoffee = p_coffee\n",
    "    cashRate = 62\n",
    "    barRate = 17.5\n",
    "    simDuration = 100\n",
    "    cTotal = 5\n",
    "    initialCashC = 1\n",
    "    numCashReg = 2 \n",
    "    meanPatienceTime = 100 \n",
    "    vacationMeanLength = 1\n",
    "    switchRatioCashtoBar = bar_to_cash_ratio.loc[p_coffee,str(p_mobile)]\n",
    "    switchRatioBartoCash = cash_to_bar_ratio.loc[p_coffee,str(p_mobile)]\n",
    "    #np.random.seed(10)\n",
    "    switching_stbks.simulation(starbucksArrivalRate, \n",
    "                         pMobile,   \n",
    "                         pCoffee , \n",
    "                         cashRate, \n",
    "                         barRate ,     \n",
    "                         simDuration, \n",
    "                         cTotal, \n",
    "                         initialCashC, \n",
    "                         numCashReg,\n",
    "                         switchRatioCashtoBar, \n",
    "                         switchRatioBartoCash, \n",
    "                         meanPatienceTime, \n",
    "                         vacationMeanLength)\n",
    "    return(switching_stbks)"
   ]
  },
  {
   "cell_type": "code",
   "execution_count": 42,
   "metadata": {},
   "outputs": [],
   "source": [
    "def calc_metrics(analysisSim):\n",
    "    #analysisSim is the simulation run with the parameters of choice\n",
    "    \n",
    "    number_entered_bar_while_in_cash = calc_mobile_orders_passing_physical(analysisSim)\n",
    "    mobile_orders_bypassing_physical = number_entered_bar_while_in_cash.mean()\n",
    "    mob_time, phy_time = calc_time_in_starbucks(analysisSim)\n",
    "    time_in_stbks_mobile=mob_time\n",
    "    time_in_stbks_physical = phy_time\n",
    "    bar_q, cash_q = calc_mean_queue_length(analysisSim)\n",
    "\n",
    "    avg_queue_bar = bar_q\n",
    "    avg_queue_cash = cash_q\n",
    "    utilization = calc_utilization_rate(analysisSim)\n",
    "    data = np.array([float(mobile_orders_bypassing_physical), time_in_stbks_mobile, time_in_stbks_physical, avg_queue_bar, avg_queue_cash,utilization]).reshape(1,6)\n",
    "    #data = np.array([float(mobile_orders_bypassing_physical), time_in_stbks_mobile, time_in_stbks_physical, avg_queue_bar, avg_queue_cash,utilization]).T\n",
    "    results = pd.DataFrame(data, columns=['Num of Mobile Bypassing Physical','Avg Time in Starbucks Mobile Customer' , 'Avg Time in Starbucks Physical Customer', 'Avg Num in Bar Queue', 'Avg Num in Cash Queue', 'Server Utilization'])\n",
    "    #return(mobile_orders_bypassing_physical, time_in_stbks_mobile, time_in_stbks_physical, avg_queue_bar, avg_queue_cash)\n",
    "    return(results)"
   ]
  },
  {
   "cell_type": "code",
   "execution_count": 43,
   "metadata": {},
   "outputs": [],
   "source": [
    "def calc_mobile_orders_passing_physical(simulation):\n",
    "    #time mobile customers enter the bar queue\n",
    "    times_enter_bar = simulation.mobileCustomersEnterTime\n",
    "    # list of people that have exited the cash\n",
    "    ppl_completed_cash = simulation.completedCustomersCash\n",
    "    num_enter_box_while_waiting_in_cash_queue = []\n",
    "    for ppl in ppl_completed_cash:\n",
    "        num = 0\n",
    "        time_enter_cash = ppl.timeEnterCashQ\n",
    "        time_exit_cash = ppl.timeExitCashSys\n",
    "        for time in times_enter_bar:\n",
    "            if time < time_exit_cash and time > time_enter_cash:\n",
    "                num +=1\n",
    "        num_enter_box_while_waiting_in_cash_queue.append(num)\n",
    "    num_enter_box_while_waiting_in_cash_queue = pd.DataFrame(num_enter_box_while_waiting_in_cash_queue)\n",
    "    \n",
    "    return(num_enter_box_while_waiting_in_cash_queue)"
   ]
  },
  {
   "cell_type": "code",
   "execution_count": 44,
   "metadata": {},
   "outputs": [],
   "source": [
    "def calc_mean_queue_length(simulation):\n",
    "    times = simulation.times\n",
    "    bar_queue = simulation.barqlength\n",
    "    cash_queue = simulation.cashqlength\n",
    " \n",
    "    avg_bar_queue = np.sum(np.subtract(times[1:], times[0:-1])*bar_queue[1:])/times[-1]\n",
    "    avg_cash_queue = np.sum(np.subtract(times[1:], times[0:-1])*cash_queue[1:])/times[-1]\n",
    "    return(float(avg_bar_queue), float(avg_cash_queue))\n",
    "    "
   ]
  },
  {
   "cell_type": "code",
   "execution_count": 45,
   "metadata": {},
   "outputs": [],
   "source": [
    "def calc_time_in_starbucks_coffee(simulation):\n",
    "    completed_customers = simulation.completedCustomers\n",
    "    time_in_stbks_coffee = []\n",
    "  \n",
    "    for ppl in completed_customers:\n",
    "        \n",
    "        if ppl.coffee ==1:\n",
    "            time_in_stbks_coffee.append(ppl.timeExitStbks - ppl.timeEnterStbks)\n",
    "        \n",
    "    \n",
    "    time_in_stbks_coffee =pd.DataFrame(time_in_stbks_coffee, columns=['Physical'])\n",
    "        \n",
    "    return(float(time_in_stbks_coffee.mean()))\n",
    "    "
   ]
  },
  {
   "cell_type": "code",
   "execution_count": 46,
   "metadata": {},
   "outputs": [],
   "source": [
    "def calc_time_in_starbucks(simulation):\n",
    "    completed_customers = simulation.completedCustomers\n",
    "    time_in_stbks_mobile = []\n",
    "    time_in_stbks_physical = []\n",
    "    for ppl in completed_customers:\n",
    "        #mobile customer\n",
    "        if ppl.mobile ==1:\n",
    "            time_in_stbks_mobile.append(ppl.timeExitStbks - ppl.timeEnterStbks)\n",
    "        else:\n",
    "            time_in_stbks_physical.append(ppl.timeExitStbks - ppl.timeEnterStbks)\n",
    "    \n",
    "    time_in_stbks_physical =pd.DataFrame(time_in_stbks_physical, columns=['Physical'])\n",
    "    time_in_stbks_mobile =pd.DataFrame(time_in_stbks_mobile, columns=['Mobile'])\n",
    "    \n",
    "    return(float(time_in_stbks_mobile.mean()), float(time_in_stbks_physical.mean()))"
   ]
  },
  {
   "cell_type": "code",
   "execution_count": 47,
   "metadata": {},
   "outputs": [],
   "source": [
    "def calc_utilization_rate(simulation):\n",
    "    #calculate the percentage of time a server is busy\n",
    "    total_occupied_servers=[]\n",
    "    for i in range(0,len(simulation.times)):\n",
    "        total_occupied_servers.append(simulation.numberOccupiedServersBar[i] + simulation.numberOccupiedServersCash[i])\n",
    "    times = simulation.times\n",
    "    rho = (np.sum(np.subtract(times[1:], times[0:-1])*total_occupied_servers[1:])/times[-1])/simulation.cTotal\n",
    "    return(rho)"
   ]
  },
  {
   "cell_type": "code",
   "execution_count": 48,
   "metadata": {},
   "outputs": [],
   "source": [
    "def calc_percent_improvements(original_stbks, switching_stbks):\n",
    "    original_results = calc_metrics(original_stbks)\n",
    "    switching_results = calc_metrics(switching_stbks)\n",
    "    percent_improvements = 100*(switching_results - original_results)/original_results\n",
    "    return(percent_improvements)"
   ]
  },
  {
   "cell_type": "markdown",
   "metadata": {},
   "source": [
    "# Comparison Collegetown Stbks"
   ]
  },
  {
   "cell_type": "code",
   "execution_count": 55,
   "metadata": {},
   "outputs": [
    {
     "data": {
      "text/html": [
       "<div>\n",
       "<style scoped>\n",
       "    .dataframe tbody tr th:only-of-type {\n",
       "        vertical-align: middle;\n",
       "    }\n",
       "\n",
       "    .dataframe tbody tr th {\n",
       "        vertical-align: top;\n",
       "    }\n",
       "\n",
       "    .dataframe thead th {\n",
       "        text-align: right;\n",
       "    }\n",
       "</style>\n",
       "<table border=\"1\" class=\"dataframe\">\n",
       "  <thead>\n",
       "    <tr style=\"text-align: right;\">\n",
       "      <th></th>\n",
       "      <th>Num of Mobile Bypassing Physical</th>\n",
       "      <th>Avg Time in Starbucks Mobile Customer</th>\n",
       "      <th>Avg Time in Starbucks Physical Customer</th>\n",
       "      <th>Avg Num in Bar Queue</th>\n",
       "      <th>Avg Num in Cash Queue</th>\n",
       "      <th>Server Utilization</th>\n",
       "    </tr>\n",
       "  </thead>\n",
       "  <tbody>\n",
       "    <tr>\n",
       "      <th>0</th>\n",
       "      <td>1.188893</td>\n",
       "      <td>0.073713</td>\n",
       "      <td>0.118174</td>\n",
       "      <td>0.960687</td>\n",
       "      <td>1.993816</td>\n",
       "      <td>0.827938</td>\n",
       "    </tr>\n",
       "  </tbody>\n",
       "</table>\n",
       "</div>"
      ],
      "text/plain": [
       "   Num of Mobile Bypassing Physical  Avg Time in Starbucks Mobile Customer  \\\n",
       "0                          1.188893                               0.073713   \n",
       "\n",
       "   Avg Time in Starbucks Physical Customer  Avg Num in Bar Queue  \\\n",
       "0                                 0.118174              0.960687   \n",
       "\n",
       "   Avg Num in Cash Queue  Server Utilization  \n",
       "0               1.993816            0.827938  "
      ]
     },
     "execution_count": 55,
     "metadata": {},
     "output_type": "execute_result"
    }
   ],
   "source": [
    "#Original Starbucks Without Switching\n",
    "original_results_collegetown = calc_metrics(original_stbks)\n",
    "#original Starbucks With Switching\n",
    "switching_results_collegetown = calc_metrics(switching_stbks)\n",
    "calc_metrics(original_stbks)"
   ]
  },
  {
   "cell_type": "code",
   "execution_count": 56,
   "metadata": {},
   "outputs": [
    {
     "data": {
      "text/html": [
       "<div>\n",
       "<style scoped>\n",
       "    .dataframe tbody tr th:only-of-type {\n",
       "        vertical-align: middle;\n",
       "    }\n",
       "\n",
       "    .dataframe tbody tr th {\n",
       "        vertical-align: top;\n",
       "    }\n",
       "\n",
       "    .dataframe thead th {\n",
       "        text-align: right;\n",
       "    }\n",
       "</style>\n",
       "<table border=\"1\" class=\"dataframe\">\n",
       "  <thead>\n",
       "    <tr style=\"text-align: right;\">\n",
       "      <th></th>\n",
       "      <th>Num of Mobile Bypassing Physical</th>\n",
       "      <th>Avg Time in Starbucks Mobile Customer</th>\n",
       "      <th>Avg Time in Starbucks Physical Customer</th>\n",
       "      <th>Avg Num in Bar Queue</th>\n",
       "      <th>Avg Num in Cash Queue</th>\n",
       "      <th>Server Utilization</th>\n",
       "    </tr>\n",
       "  </thead>\n",
       "  <tbody>\n",
       "    <tr>\n",
       "      <th>0</th>\n",
       "      <td>6.713099</td>\n",
       "      <td>0.223811</td>\n",
       "      <td>0.506761</td>\n",
       "      <td>11.528058</td>\n",
       "      <td>15.398606</td>\n",
       "      <td>0.987796</td>\n",
       "    </tr>\n",
       "  </tbody>\n",
       "</table>\n",
       "</div>"
      ],
      "text/plain": [
       "   Num of Mobile Bypassing Physical  Avg Time in Starbucks Mobile Customer  \\\n",
       "0                          6.713099                               0.223811   \n",
       "\n",
       "   Avg Time in Starbucks Physical Customer  Avg Num in Bar Queue  \\\n",
       "0                                 0.506761             11.528058   \n",
       "\n",
       "   Avg Num in Cash Queue  Server Utilization  \n",
       "0              15.398606            0.987796  "
      ]
     },
     "execution_count": 56,
     "metadata": {},
     "output_type": "execute_result"
    }
   ],
   "source": [
    "calc_metrics(switching_stbks)"
   ]
  },
  {
   "cell_type": "code",
   "execution_count": 51,
   "metadata": {},
   "outputs": [
    {
     "data": {
      "text/html": [
       "<div>\n",
       "<style scoped>\n",
       "    .dataframe tbody tr th:only-of-type {\n",
       "        vertical-align: middle;\n",
       "    }\n",
       "\n",
       "    .dataframe tbody tr th {\n",
       "        vertical-align: top;\n",
       "    }\n",
       "\n",
       "    .dataframe thead th {\n",
       "        text-align: right;\n",
       "    }\n",
       "</style>\n",
       "<table border=\"1\" class=\"dataframe\">\n",
       "  <thead>\n",
       "    <tr style=\"text-align: right;\">\n",
       "      <th></th>\n",
       "      <th>Num of Mobile Bypassing Physical</th>\n",
       "      <th>Avg Time in Starbucks Mobile Customer</th>\n",
       "      <th>Avg Time in Starbucks Physical Customer</th>\n",
       "      <th>Avg Num in Bar Queue</th>\n",
       "      <th>Avg Num in Cash Queue</th>\n",
       "      <th>Server Utilization</th>\n",
       "    </tr>\n",
       "  </thead>\n",
       "  <tbody>\n",
       "    <tr>\n",
       "      <th>0</th>\n",
       "      <td>464.651217</td>\n",
       "      <td>203.626092</td>\n",
       "      <td>328.826459</td>\n",
       "      <td>1099.980588</td>\n",
       "      <td>672.318446</td>\n",
       "      <td>19.308041</td>\n",
       "    </tr>\n",
       "  </tbody>\n",
       "</table>\n",
       "</div>"
      ],
      "text/plain": [
       "   Num of Mobile Bypassing Physical  Avg Time in Starbucks Mobile Customer  \\\n",
       "0                        464.651217                             203.626092   \n",
       "\n",
       "   Avg Time in Starbucks Physical Customer  Avg Num in Bar Queue  \\\n",
       "0                               328.826459           1099.980588   \n",
       "\n",
       "   Avg Num in Cash Queue  Server Utilization  \n",
       "0             672.318446           19.308041  "
      ]
     },
     "execution_count": 51,
     "metadata": {},
     "output_type": "execute_result"
    }
   ],
   "source": [
    "percent_improvements_collegetown = calc_percent_improvements(original_stbks,switching_stbks)\n",
    "percent_improvements_collegetown"
   ]
  },
  {
   "cell_type": "code",
   "execution_count": 52,
   "metadata": {},
   "outputs": [],
   "source": [
    "percent_improvements_collegetown.to_csv('Percent Improvements Collegetown Starbucks.csv')\n",
    "original_results_collegetown.to_csv('Original Operating Results.csv')\n",
    "switching_results_collegetown.to_csv('Switching Operating Results.csv')"
   ]
  },
  {
   "cell_type": "markdown",
   "metadata": {},
   "source": [
    "# For Pcoffee = 0.1, Pmobile = [0.2, 0.25, 0.3, 0.35, 0.4, 0.45, 0.5]"
   ]
  },
  {
   "cell_type": "code",
   "execution_count": 118,
   "metadata": {},
   "outputs": [],
   "source": [
    "p_coffee = 0.1\n",
    "p_mobiles = np.arange(0.2, 1, 0.1)#[0.2, 0.25, 0.3, 0.35, 0.4, 0.45, 0.5]"
   ]
  },
  {
   "cell_type": "code",
   "execution_count": 158,
   "metadata": {},
   "outputs": [
    {
     "data": {
      "text/html": [
       "<div>\n",
       "<style scoped>\n",
       "    .dataframe tbody tr th:only-of-type {\n",
       "        vertical-align: middle;\n",
       "    }\n",
       "\n",
       "    .dataframe tbody tr th {\n",
       "        vertical-align: top;\n",
       "    }\n",
       "\n",
       "    .dataframe thead th {\n",
       "        text-align: right;\n",
       "    }\n",
       "</style>\n",
       "<table border=\"1\" class=\"dataframe\">\n",
       "  <thead>\n",
       "    <tr style=\"text-align: right;\">\n",
       "      <th></th>\n",
       "      <th>Num of Mobile Bypassing Physical</th>\n",
       "      <th>Avg Time in Starbucks Mobile Customer</th>\n",
       "      <th>Avg Time in Starbucks Physical Customer</th>\n",
       "      <th>Avg Num in Bar Queue</th>\n",
       "      <th>Avg Num in Cash Queue</th>\n",
       "      <th>Server Utilization</th>\n",
       "    </tr>\n",
       "  </thead>\n",
       "  <tbody>\n",
       "    <tr>\n",
       "      <th>0</th>\n",
       "      <td>2.922731</td>\n",
       "      <td>0.092971</td>\n",
       "      <td>0.219109</td>\n",
       "      <td>2.556845</td>\n",
       "      <td>6.308347</td>\n",
       "      <td>0.822343</td>\n",
       "    </tr>\n",
       "  </tbody>\n",
       "</table>\n",
       "</div>"
      ],
      "text/plain": [
       "   Num of Mobile Bypassing Physical  Avg Time in Starbucks Mobile Customer  \\\n",
       "0                          2.922731                               0.092971   \n",
       "\n",
       "   Avg Time in Starbucks Physical Customer  Avg Num in Bar Queue  \\\n",
       "0                                 0.219109              2.556845   \n",
       "\n",
       "   Avg Num in Cash Queue  Server Utilization  \n",
       "0               6.308347            0.822343  "
      ]
     },
     "execution_count": 158,
     "metadata": {},
     "output_type": "execute_result"
    }
   ],
   "source": [
    "calc_metrics(run_original_simulation(0.3,0.1))"
   ]
  },
  {
   "cell_type": "code",
   "execution_count": 159,
   "metadata": {},
   "outputs": [
    {
     "data": {
      "text/html": [
       "<div>\n",
       "<style scoped>\n",
       "    .dataframe tbody tr th:only-of-type {\n",
       "        vertical-align: middle;\n",
       "    }\n",
       "\n",
       "    .dataframe tbody tr th {\n",
       "        vertical-align: top;\n",
       "    }\n",
       "\n",
       "    .dataframe thead th {\n",
       "        text-align: right;\n",
       "    }\n",
       "</style>\n",
       "<table border=\"1\" class=\"dataframe\">\n",
       "  <thead>\n",
       "    <tr style=\"text-align: right;\">\n",
       "      <th></th>\n",
       "      <th>Num of Mobile Bypassing Physical</th>\n",
       "      <th>Avg Time in Starbucks Mobile Customer</th>\n",
       "      <th>Avg Time in Starbucks Physical Customer</th>\n",
       "      <th>Avg Num in Bar Queue</th>\n",
       "      <th>Avg Num in Cash Queue</th>\n",
       "      <th>Server Utilization</th>\n",
       "    </tr>\n",
       "  </thead>\n",
       "  <tbody>\n",
       "    <tr>\n",
       "      <th>0</th>\n",
       "      <td>1.28</td>\n",
       "      <td>0.125931</td>\n",
       "      <td>0.135415</td>\n",
       "      <td>4.961333</td>\n",
       "      <td>0.016379</td>\n",
       "      <td>0.756027</td>\n",
       "    </tr>\n",
       "  </tbody>\n",
       "</table>\n",
       "</div>"
      ],
      "text/plain": [
       "   Num of Mobile Bypassing Physical  Avg Time in Starbucks Mobile Customer  \\\n",
       "0                              1.28                               0.125931   \n",
       "\n",
       "   Avg Time in Starbucks Physical Customer  Avg Num in Bar Queue  \\\n",
       "0                                 0.135415              4.961333   \n",
       "\n",
       "   Avg Num in Cash Queue  Server Utilization  \n",
       "0               0.016379            0.756027  "
      ]
     },
     "execution_count": 159,
     "metadata": {},
     "output_type": "execute_result"
    }
   ],
   "source": [
    "calc_metrics(run_original_simulation(0.9,0.1))"
   ]
  },
  {
   "cell_type": "code",
   "execution_count": 138,
   "metadata": {},
   "outputs": [],
   "source": [
    "#Only increasing pmobile\n",
    "percent_improvements_pmobile_no_switching = pd.DataFrame( columns=['Num of Mobile Bypassing Physical','Avg Time in Starbucks Mobile Customer' , 'Avg Time in Starbucks Physical Customer', 'Avg Num in Bar Queue', 'Avg Num in Cash Queue','Server Utilization'])\n",
    "percent_improvements_pmobile_with_switching = pd.DataFrame( columns=['Num of Mobile Bypassing Physical','Avg Time in Starbucks Mobile Customer' , 'Avg Time in Starbucks Physical Customer', 'Avg Num in Bar Queue', 'Avg Num in Cash Queue','Server Utilization'])\n",
    "metrics_no_switching = pd.DataFrame( columns=['Num of Mobile Bypassing Physical','Avg Time in Starbucks Mobile Customer' , 'Avg Time in Starbucks Physical Customer', 'Avg Num in Bar Queue', 'Avg Num in Cash Queue','Server Utilization'])\n",
    "metrics_with_switching = pd.DataFrame( columns=['Num of Mobile Bypassing Physical','Avg Time in Starbucks Mobile Customer' , 'Avg Time in Starbucks Physical Customer', 'Avg Num in Bar Queue', 'Avg Num in Cash Queue','Server Utilization'])\n",
    " \n",
    "\n",
    "original_stbks = run_original_simulation(0.3,0.1)\n",
    "original_stbks_with_switching = run_switching_simulation(0.3,0.1)\n",
    "for i in range(0,len(p_mobiles)):\n",
    "    p_coffee = 0.1\n",
    "    #p_mobiles = [0.2, 0.25, 0.3, 0.35, 0.4, 0.45, 0.5]\n",
    "    p_mobile = p_mobiles[i]\n",
    "    #original_stbks = run_original_simulation(p_mobile, p_coffee)\n",
    "    \n",
    "    #changed p_mobile and switching\n",
    "    #switching_stbks = run_switching_simulation(p_mobile, p_coffee)\n",
    "    #changed p_mobile but no switching \n",
    "    no_switching_stbks = run_original_simulation(p_mobile, p_coffee)\n",
    "    \n",
    "    #percent_improvement_with_switching = calc_percent_improvements(original_stbks,switching_stbks)\n",
    "    percent_improvement_without_switching = calc_percent_improvements(original_stbks,no_switching_stbks)\n",
    "    metrics_no_switching = metrics_no_switching.append(calc_metrics(no_switching_stbks))\n",
    "    #percent_improvements_pmobile_with_switching = percent_improvements_pmobile_with_switching.append(percent_improvement_with_switching)\n",
    "    percent_improvements_pmobile_no_switching = percent_improvements_pmobile_no_switching.append(percent_improvement_without_switching)\n",
    "    #metrics_with_switching = metrics_with_switching.append(calc_metrics(switching_stbks)) "
   ]
  },
  {
   "cell_type": "code",
   "execution_count": 139,
   "metadata": {},
   "outputs": [
    {
     "data": {
      "text/html": [
       "<div>\n",
       "<style scoped>\n",
       "    .dataframe tbody tr th:only-of-type {\n",
       "        vertical-align: middle;\n",
       "    }\n",
       "\n",
       "    .dataframe tbody tr th {\n",
       "        vertical-align: top;\n",
       "    }\n",
       "\n",
       "    .dataframe thead th {\n",
       "        text-align: right;\n",
       "    }\n",
       "</style>\n",
       "<table border=\"1\" class=\"dataframe\">\n",
       "  <thead>\n",
       "    <tr style=\"text-align: right;\">\n",
       "      <th></th>\n",
       "      <th>Num of Mobile Bypassing Physical</th>\n",
       "      <th>Avg Time in Starbucks Mobile Customer</th>\n",
       "      <th>Avg Time in Starbucks Physical Customer</th>\n",
       "      <th>Avg Num in Bar Queue</th>\n",
       "      <th>Avg Num in Cash Queue</th>\n",
       "      <th>Server Utilization</th>\n",
       "    </tr>\n",
       "  </thead>\n",
       "  <tbody>\n",
       "    <tr>\n",
       "      <th>0</th>\n",
       "      <td>51.014916</td>\n",
       "      <td>-1.621866</td>\n",
       "      <td>77.327436</td>\n",
       "      <td>-15.944155</td>\n",
       "      <td>190.404599</td>\n",
       "      <td>1.263532</td>\n",
       "    </tr>\n",
       "    <tr>\n",
       "      <th>0</th>\n",
       "      <td>-30.903833</td>\n",
       "      <td>9.294268</td>\n",
       "      <td>-17.905003</td>\n",
       "      <td>19.105855</td>\n",
       "      <td>-37.337058</td>\n",
       "      <td>2.809955</td>\n",
       "    </tr>\n",
       "    <tr>\n",
       "      <th>0</th>\n",
       "      <td>-32.537705</td>\n",
       "      <td>2.398774</td>\n",
       "      <td>-28.930295</td>\n",
       "      <td>7.150503</td>\n",
       "      <td>-63.756205</td>\n",
       "      <td>-0.487811</td>\n",
       "    </tr>\n",
       "    <tr>\n",
       "      <th>0</th>\n",
       "      <td>-33.767160</td>\n",
       "      <td>2.016965</td>\n",
       "      <td>-37.360839</td>\n",
       "      <td>7.046312</td>\n",
       "      <td>-81.419232</td>\n",
       "      <td>-0.618907</td>\n",
       "    </tr>\n",
       "    <tr>\n",
       "      <th>0</th>\n",
       "      <td>-49.944806</td>\n",
       "      <td>14.020675</td>\n",
       "      <td>-38.346729</td>\n",
       "      <td>30.483881</td>\n",
       "      <td>-91.926023</td>\n",
       "      <td>-2.213119</td>\n",
       "    </tr>\n",
       "    <tr>\n",
       "      <th>0</th>\n",
       "      <td>-56.937828</td>\n",
       "      <td>8.138580</td>\n",
       "      <td>-44.286894</td>\n",
       "      <td>15.406218</td>\n",
       "      <td>-97.126331</td>\n",
       "      <td>-5.884105</td>\n",
       "    </tr>\n",
       "    <tr>\n",
       "      <th>0</th>\n",
       "      <td>-48.620237</td>\n",
       "      <td>14.421881</td>\n",
       "      <td>-40.945173</td>\n",
       "      <td>40.749138</td>\n",
       "      <td>-98.276820</td>\n",
       "      <td>-7.119881</td>\n",
       "    </tr>\n",
       "    <tr>\n",
       "      <th>0</th>\n",
       "      <td>-52.246399</td>\n",
       "      <td>31.025215</td>\n",
       "      <td>-34.024125</td>\n",
       "      <td>92.325444</td>\n",
       "      <td>-99.658824</td>\n",
       "      <td>-7.361667</td>\n",
       "    </tr>\n",
       "  </tbody>\n",
       "</table>\n",
       "</div>"
      ],
      "text/plain": [
       "   Num of Mobile Bypassing Physical  Avg Time in Starbucks Mobile Customer  \\\n",
       "0                         51.014916                              -1.621866   \n",
       "0                        -30.903833                               9.294268   \n",
       "0                        -32.537705                               2.398774   \n",
       "0                        -33.767160                               2.016965   \n",
       "0                        -49.944806                              14.020675   \n",
       "0                        -56.937828                               8.138580   \n",
       "0                        -48.620237                              14.421881   \n",
       "0                        -52.246399                              31.025215   \n",
       "\n",
       "   Avg Time in Starbucks Physical Customer  Avg Num in Bar Queue  \\\n",
       "0                                77.327436            -15.944155   \n",
       "0                               -17.905003             19.105855   \n",
       "0                               -28.930295              7.150503   \n",
       "0                               -37.360839              7.046312   \n",
       "0                               -38.346729             30.483881   \n",
       "0                               -44.286894             15.406218   \n",
       "0                               -40.945173             40.749138   \n",
       "0                               -34.024125             92.325444   \n",
       "\n",
       "   Avg Num in Cash Queue  Server Utilization  \n",
       "0             190.404599            1.263532  \n",
       "0             -37.337058            2.809955  \n",
       "0             -63.756205           -0.487811  \n",
       "0             -81.419232           -0.618907  \n",
       "0             -91.926023           -2.213119  \n",
       "0             -97.126331           -5.884105  \n",
       "0             -98.276820           -7.119881  \n",
       "0             -99.658824           -7.361667  "
      ]
     },
     "execution_count": 139,
     "metadata": {},
     "output_type": "execute_result"
    }
   ],
   "source": [
    "percent_improvements_pmobile_no_switching"
   ]
  },
  {
   "cell_type": "markdown",
   "metadata": {},
   "source": [
    "# Plot Average Time in Starbucks Mobile and Physical (Percent Improvement)\n",
    " one line mobile improvement, one like physical improvement\n"
   ]
  },
  {
   "cell_type": "code",
   "execution_count": 143,
   "metadata": {},
   "outputs": [
    {
     "data": {
      "image/png": "[encoded data removed]",
      "text/plain": [
       "<Figure size 432x288 with 1 Axes>"
      ]
     },
     "metadata": {
      "needs_background": "light"
     },
     "output_type": "display_data"
    }
   ],
   "source": [
    "#plt.plot(0.3,0, 'ro', label = 'Current')\n",
    "#plt.plot(p_mobiles,metrics_with_switching['Avg Time in Starbucks Mobile Customer'], label = 'Mobile - Optimal Switching')\n",
    "#plt.plot(p_mobiles,metrics_with_switching['Avg Time in Starbucks Physical Customer'], label = 'Physical - Optimal Switching')\n",
    "plt.plot(p_mobiles,metrics_no_switching['Avg Time in Starbucks Mobile Customer'], 'ro', label = 'Mobile - No Switching')\n",
    "plt.plot(p_mobiles,metrics_no_switching['Avg Time in Starbucks Physical Customer'], 'bo',label = 'Physical - No Switching')\n",
    "plt.legend()\n",
    "plt.xlabel('Pmobile')\n",
    "plt.ylabel('Time in System')\n",
    "plt.ylim(0,0.40)\n",
    "#plt.title('Time in System as Percent of Mobile Orders Changes')\n",
    "plt.savefig('Time in System as pMobile changes.png')"
   ]
  },
  {
   "cell_type": "markdown",
   "metadata": {},
   "source": [
    "# Average Queue Length Mobile and Physical (Percent Improvement)"
   ]
  },
  {
   "cell_type": "code",
   "execution_count": 141,
   "metadata": {},
   "outputs": [
    {
     "data": {
      "image/png": "[encoded data removed]",
      "text/plain": [
       "<Figure size 432x288 with 1 Axes>"
      ]
     },
     "metadata": {
      "needs_background": "light"
     },
     "output_type": "display_data"
    }
   ],
   "source": [
    "#plt.plot(0.3,0, 'ro', label = 'Current')\n",
    "#plt.plot(p_mobiles,metrics_with_switching['Avg Num in Bar Queue'], label = 'Bar - Optimal Switching')\n",
    "#plt.plot(p_mobiles,metrics_with_switching['Avg Num in Cash Queue'], label = 'Cash - Optimal Switching')\n",
    "plt.plot(p_mobiles,metrics_no_switching['Avg Num in Bar Queue'], 'ro', label = 'Bar - No Switching')\n",
    "plt.plot(p_mobiles,metrics_no_switching['Avg Num in Cash Queue'],'bo', label = 'Cash - No Switching')\n",
    "plt.legend()\n",
    "plt.xlabel('Pmobile')\n",
    "plt.ylabel('Queue Length')\n",
    "#plt.title('Queue Length as Percent of Mobile Orders Changes')\n",
    "plt.savefig('Queue Length as pMobile changes.png')"
   ]
  },
  {
   "cell_type": "markdown",
   "metadata": {},
   "source": [
    "# Utilization Rate"
   ]
  },
  {
   "cell_type": "code",
   "execution_count": 142,
   "metadata": {},
   "outputs": [
    {
     "data": {
      "image/png": "[encoded data removed]",
      "text/plain": [
       "<Figure size 432x288 with 1 Axes>"
      ]
     },
     "metadata": {
      "needs_background": "light"
     },
     "output_type": "display_data"
    }
   ],
   "source": [
    "#plt.plot(0.3,0, 'ro', label = 'Current')\n",
    "plt.plot(p_mobiles,metrics_no_switching['Server Utilization'],'ro')\n",
    "plt.legend()\n",
    "plt.xlabel('Pmobile')\n",
    "plt.ylabel('Utilization Rate')\n",
    "#plt.title('Utilization Rate as Percentage of Mobile Orders Change')\n",
    "plt.savefig('utilization as pMobile changes.png')"
   ]
  },
  {
   "cell_type": "code",
   "execution_count": 164,
   "metadata": {},
   "outputs": [],
   "source": [
    "p_1 = calc_metrics(run_original_simulation(0.3,0.1))\n",
    "p_1.to_csv('pmobile 0.3 results.csv')"
   ]
  },
  {
   "cell_type": "code",
   "execution_count": 165,
   "metadata": {},
   "outputs": [],
   "source": [
    "p_9 = calc_metrics(run_original_simulation(0.9,0.1))\n",
    "p_9.to_csv('pmobile 0.9 result.csv')"
   ]
  },
  {
   "cell_type": "code",
   "execution_count": null,
   "metadata": {},
   "outputs": [],
   "source": [
    "plt.plot(p_mobiles,metrics_no_switching['Num of Mobile Bypassing Physical'], 'ro')\n",
    "plt.xlabel('Pmobile')\n",
    "plt.ylable('Number of Mobile Customers Bypassing Physical')"
   ]
  },
  {
   "cell_type": "code",
   "execution_count": null,
   "metadata": {},
   "outputs": [],
   "source": []
  }
 ],
 "metadata": {
  "kernelspec": {
   "display_name": "Python 3",
   "language": "python",
   "name": "python3"
  },
  "language_info": {
   "codemirror_mode": {
    "name": "ipython",
    "version": 3
   },
   "file_extension": ".py",
   "mimetype": "text/x-python",
   "name": "python",
   "nbconvert_exporter": "python",
   "pygments_lexer": "ipython3",
   "version": "3.7.2"
  }
 },
 "nbformat": 4,
 "nbformat_minor": 2
}
